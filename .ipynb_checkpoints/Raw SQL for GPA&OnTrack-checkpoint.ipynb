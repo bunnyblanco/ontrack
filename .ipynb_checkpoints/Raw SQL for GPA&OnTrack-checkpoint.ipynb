{
 "cells": [
  {
   "cell_type": "code",
   "execution_count": 64,
   "metadata": {
    "collapsed": false
   },
   "outputs": [],
   "source": [
    "#sql to pandas\n",
    "import pandas\n",
    "from student.models import Grade\n",
    "from django.db import connection\n",
    "\n",
    "\n",
    "#for notebook only\n",
    "from bokeh.charts import show\n",
    "from bokeh.io import output_notebook\n",
    "\n",
    "import math\n"
   ]
  },
  {
   "cell_type": "code",
   "execution_count": 65,
   "metadata": {
    "collapsed": false
   },
   "outputs": [],
   "source": [
    "student_id=4\n"
   ]
  },
  {
   "cell_type": "code",
   "execution_count": 66,
   "metadata": {
    "collapsed": true
   },
   "outputs": [],
   "source": [
    "def getPoints(x):\n",
    "    # if no grade for that subject at that date\n",
    "    if math.isnan(x):\n",
    "        # just return it untouched\n",
    "        return x\n",
    "    # but, if not, return the points\n",
    "    elif x:\n",
    "        if x>=90:\n",
    "            return 4\n",
    "        elif x>=80:\n",
    "            return 3\n",
    "        elif x>=70:\n",
    "            return 2\n",
    "        elif x>=60:\n",
    "            return 1\n",
    "        else:\n",
    "            return 0\n",
    "    # and leave everything else\n",
    "    else:\n",
    "        return \n",
    "    \n",
    "all_grades_sql = \"SELECT grade, grade_date, subject_name  FROM student_grade, student_subject  \\\n",
    "           WHERE student_grade.student_id = '%s' AND student_grade.subject_id=student_subject.subject_id\" %(student_id )\n",
    "df_all_grades = pandas.read_sql(all_grades_sql, con=connection)\n",
    "df_grades_indexed=df_all_grades.pivot(index='grade_date', columns='subject_name', values='grade')\n",
    "    \n",
    "df_points=df_grades_indexed.applymap(getPoints)\n",
    "df_points['gpa']=df_points.mean(axis=1)\n",
    "df_points=df_points.reset_index()\n",
    "gpa_values=df_points[['grade_date', 'gpa']].values\n",
    "gpa_desc=[(\"grade_date\", \"date\", \"Date\" ),\n",
    "          (\"gpa\", \"number\", \"GPA)]\n"
   ]
  },
  {
   "cell_type": "code",
   "execution_count": null,
   "metadata": {
    "collapsed": true
   },
   "outputs": [],
   "source": []
  },
  {
   "cell_type": "code",
   "execution_count": null,
   "metadata": {
    "collapsed": true
   },
   "outputs": [],
   "source": []
  }
 ],
 "metadata": {
  "kernelspec": {
   "display_name": "Django Shell-Plus",
   "language": "python",
   "name": "django_extensions"
  },
  "language_info": {
   "codemirror_mode": {
    "name": "ipython",
    "version": 2
   },
   "file_extension": ".py",
   "mimetype": "text/x-python",
   "name": "python",
   "nbconvert_exporter": "python",
   "pygments_lexer": "ipython2",
   "version": "2.7.6"
  }
 },
 "nbformat": 4,
 "nbformat_minor": 1
}
