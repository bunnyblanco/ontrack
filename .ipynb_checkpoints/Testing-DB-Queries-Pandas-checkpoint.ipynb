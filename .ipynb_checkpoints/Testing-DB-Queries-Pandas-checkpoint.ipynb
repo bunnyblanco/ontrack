{
 "cells": [
  {
   "cell_type": "code",
   "execution_count": 20,
   "metadata": {
    "collapsed": false
   },
   "outputs": [],
   "source": [
    "from django.shortcuts import render\n",
    "from student.models import Grade\n",
    "\n",
    "import pandas\n",
    "\n",
    "#bokeh\n",
    "from django.db import connection\n",
    "from bokeh.charts import Scatter, TimeSeries\n",
    "from datetime import datetime\n",
    "from collections import OrderedDict\n",
    "from bokeh.plotting import figure\n",
    "\n",
    "#for notebook only\n",
    "from bokeh.charts import show\n",
    "from bokeh.io import output_notebook"
   ]
  },
  {
   "cell_type": "code",
   "execution_count": 16,
   "metadata": {
    "collapsed": false
   },
   "outputs": [],
   "source": [
    "grades_sql = \"SELECT grade, grade_date, subject_id  FROM student_grade  \\\n",
    "           WHERE student_id = '%s' AND subject_id = '%s'\" %('50155809', '4')  \n",
    "df_grades = pandas.read_sql(grades_sql, con=connection)"
   ]
  },
  {
   "cell_type": "code",
   "execution_count": 17,
   "metadata": {
    "collapsed": false
   },
   "outputs": [
    {
     "data": {
      "text/html": [
       "<div>\n",
       "<table border=\"1\" class=\"dataframe\">\n",
       "  <thead>\n",
       "    <tr style=\"text-align: right;\">\n",
       "      <th></th>\n",
       "      <th>grade</th>\n",
       "      <th>grade_date</th>\n",
       "      <th>subject_id</th>\n",
       "    </tr>\n",
       "  </thead>\n",
       "  <tbody>\n",
       "    <tr>\n",
       "      <th>0</th>\n",
       "      <td>62</td>\n",
       "      <td>2016-03-15</td>\n",
       "      <td>4</td>\n",
       "    </tr>\n",
       "    <tr>\n",
       "      <th>1</th>\n",
       "      <td>65</td>\n",
       "      <td>2016-04-15</td>\n",
       "      <td>4</td>\n",
       "    </tr>\n",
       "    <tr>\n",
       "      <th>2</th>\n",
       "      <td>62</td>\n",
       "      <td>2016-05-15</td>\n",
       "      <td>4</td>\n",
       "    </tr>\n",
       "  </tbody>\n",
       "</table>\n",
       "</div>"
      ],
      "text/plain": [
       "   grade  grade_date  subject_id\n",
       "0     62  2016-03-15           4\n",
       "1     65  2016-04-15           4\n",
       "2     62  2016-05-15           4"
      ]
     },
     "execution_count": 17,
     "metadata": {},
     "output_type": "execute_result"
    }
   ],
   "source": [
    "df_grades"
   ]
  },
  {
   "cell_type": "code",
   "execution_count": null,
   "metadata": {
    "collapsed": false
   },
   "outputs": [],
   "source": []
  },
  {
   "cell_type": "code",
   "execution_count": 18,
   "metadata": {
    "collapsed": false
   },
   "outputs": [
    {
     "data": {
      "text/plain": [
       "OrderedDict([('grade_date', 0    2016-03-15\n",
       "              1    2016-04-15\n",
       "              2    2016-05-15\n",
       "              Name: grade_date, dtype: object), ('grade', 0    62\n",
       "              1    65\n",
       "              2    62\n",
       "              Name: grade, dtype: int64)])"
      ]
     },
     "execution_count": 18,
     "metadata": {},
     "output_type": "execute_result"
    }
   ],
   "source": [
    "grades_dict = OrderedDict({'grade_date': df_grades.grade_date})\n",
    "grades_dict['grade'] = df_grades.grade\n",
    "grades_dict\n",
    " \n"
   ]
  },
  {
   "cell_type": "code",
   "execution_count": 19,
   "metadata": {
    "collapsed": false
   },
   "outputs": [
    {
     "data": {
      "text/html": [
       "\n",
       "    <div class=\"bk-root\">\n",
       "        <a href=\"http://bokeh.pydata.org\" target=\"_blank\" class=\"bk-logo bk-logo-small bk-logo-notebook\"></a>\n",
       "        <span id=\"42bf8f6d-1d60-4876-8bc9-1f9229bc8c41\">Loading BokehJS ...</span>\n",
       "    </div>"
      ]
     },
     "metadata": {},
     "output_type": "display_data"
    },
    {
     "data": {
      "application/javascript": [
       "\n",
       "(function(global) {\n",
       "  function now() {\n",
       "    return new Date();\n",
       "  }\n",
       "\n",
       "  var force = \"1\";\n",
       "\n",
       "  if (typeof (window._bokeh_onload_callbacks) === \"undefined\" || force !== \"\") {\n",
       "    window._bokeh_onload_callbacks = [];\n",
       "    window._bokeh_is_loading = undefined;\n",
       "  }\n",
       "\n",
       "  function run_callbacks() {\n",
       "    window._bokeh_onload_callbacks.forEach(function(callback) { callback() });\n",
       "    delete window._bokeh_onload_callbacks\n",
       "    console.info(\"Bokeh: all callbacks have finished\");\n",
       "  }\n",
       "\n",
       "  function load_libs(js_urls, callback) {\n",
       "    window._bokeh_onload_callbacks.push(callback);\n",
       "    if (window._bokeh_is_loading > 0) {\n",
       "      console.log(\"Bokeh: BokehJS is being loaded, scheduling callback at\", now());\n",
       "      return null;\n",
       "    }\n",
       "    if (js_urls == null || js_urls.length === 0) {\n",
       "      run_callbacks();\n",
       "      return null;\n",
       "    }\n",
       "    console.log(\"Bokeh: BokehJS not loaded, scheduling load and callback at\", now());\n",
       "    window._bokeh_is_loading = js_urls.length;\n",
       "    for (var i = 0; i < js_urls.length; i++) {\n",
       "      var url = js_urls[i];\n",
       "      var s = document.createElement('script');\n",
       "      s.src = url;\n",
       "      s.async = false;\n",
       "      s.onreadystatechange = s.onload = function() {\n",
       "        window._bokeh_is_loading--;\n",
       "        if (window._bokeh_is_loading === 0) {\n",
       "          console.log(\"Bokeh: all BokehJS libraries loaded\");\n",
       "          run_callbacks()\n",
       "        }\n",
       "      };\n",
       "      s.onerror = function() {\n",
       "        console.warn(\"failed to load library \" + url);\n",
       "      };\n",
       "      console.log(\"Bokeh: injecting script tag for BokehJS library: \", url);\n",
       "      document.getElementsByTagName(\"head\")[0].appendChild(s);\n",
       "    }\n",
       "  };\n",
       "\n",
       "  var js_urls = ['https://cdn.pydata.org/bokeh/release/bokeh-0.12.1.min.js', 'https://cdn.pydata.org/bokeh/release/bokeh-widgets-0.12.1.min.js', 'https://cdn.pydata.org/bokeh/release/bokeh-compiler-0.12.1.min.js'];\n",
       "\n",
       "  var inline_js = [\n",
       "    function(Bokeh) {\n",
       "      Bokeh.set_log_level(\"info\");\n",
       "    },\n",
       "    \n",
       "    function(Bokeh) {\n",
       "      \n",
       "      Bokeh.$(\"#42bf8f6d-1d60-4876-8bc9-1f9229bc8c41\").text(\"BokehJS successfully loaded\");\n",
       "      var kernel = Jupyter.notebook.kernel\n",
       "      if (kernel.execute !== undefined) {\n",
       "          kernel.execute(\"import bokeh.io; bokeh.io._nb_loaded = True\");\n",
       "      }\n",
       "    },\n",
       "    function(Bokeh) {\n",
       "      console.log(\"Bokeh: injecting CSS: https://cdn.pydata.org/bokeh/release/bokeh-0.12.1.min.css\");\n",
       "      Bokeh.embed.inject_css(\"https://cdn.pydata.org/bokeh/release/bokeh-0.12.1.min.css\");\n",
       "      console.log(\"Bokeh: injecting CSS: https://cdn.pydata.org/bokeh/release/bokeh-widgets-0.12.1.min.css\");\n",
       "      Bokeh.embed.inject_css(\"https://cdn.pydata.org/bokeh/release/bokeh-widgets-0.12.1.min.css\");\n",
       "    }\n",
       "  ];\n",
       "\n",
       "  function run_inline_js() {\n",
       "    for (var i = 0; i < inline_js.length; i++) {\n",
       "      inline_js[i](window.Bokeh);\n",
       "    }\n",
       "  }\n",
       "\n",
       "  if (window._bokeh_is_loading === 0) {\n",
       "    console.log(\"Bokeh: BokehJS loaded, going straight to plotting\");\n",
       "    run_inline_js();\n",
       "  } else {\n",
       "    load_libs(js_urls, function() {\n",
       "      console.log(\"Bokeh: BokehJS plotting callback run at\", now());\n",
       "      run_inline_js();\n",
       "    });\n",
       "  }\n",
       "}(this));"
      ]
     },
     "metadata": {},
     "output_type": "display_data"
    },
    {
     "data": {
      "text/html": [
       "\n",
       "\n",
       "    <div class=\"bk-root\">\n",
       "        <div class=\"plotdiv\" id=\"ee4e03c9-35c7-4c7b-a6b2-615dfb320c8d\"></div>\n",
       "    </div>\n",
       "<script type=\"text/javascript\">\n",
       "  \n",
       "  (function(global) {\n",
       "    function now() {\n",
       "      return new Date();\n",
       "    }\n",
       "  \n",
       "    var force = \"\";\n",
       "  \n",
       "    if (typeof (window._bokeh_onload_callbacks) === \"undefined\" || force !== \"\") {\n",
       "      window._bokeh_onload_callbacks = [];\n",
       "      window._bokeh_is_loading = undefined;\n",
       "    }\n",
       "  \n",
       "    function run_callbacks() {\n",
       "      window._bokeh_onload_callbacks.forEach(function(callback) { callback() });\n",
       "      delete window._bokeh_onload_callbacks\n",
       "      console.info(\"Bokeh: all callbacks have finished\");\n",
       "    }\n",
       "  \n",
       "    function load_libs(js_urls, callback) {\n",
       "      window._bokeh_onload_callbacks.push(callback);\n",
       "      if (window._bokeh_is_loading > 0) {\n",
       "        console.log(\"Bokeh: BokehJS is being loaded, scheduling callback at\", now());\n",
       "        return null;\n",
       "      }\n",
       "      if (js_urls == null || js_urls.length === 0) {\n",
       "        run_callbacks();\n",
       "        return null;\n",
       "      }\n",
       "      console.log(\"Bokeh: BokehJS not loaded, scheduling load and callback at\", now());\n",
       "      window._bokeh_is_loading = js_urls.length;\n",
       "      for (var i = 0; i < js_urls.length; i++) {\n",
       "        var url = js_urls[i];\n",
       "        var s = document.createElement('script');\n",
       "        s.src = url;\n",
       "        s.async = false;\n",
       "        s.onreadystatechange = s.onload = function() {\n",
       "          window._bokeh_is_loading--;\n",
       "          if (window._bokeh_is_loading === 0) {\n",
       "            console.log(\"Bokeh: all BokehJS libraries loaded\");\n",
       "            run_callbacks()\n",
       "          }\n",
       "        };\n",
       "        s.onerror = function() {\n",
       "          console.warn(\"failed to load library \" + url);\n",
       "        };\n",
       "        console.log(\"Bokeh: injecting script tag for BokehJS library: \", url);\n",
       "        document.getElementsByTagName(\"head\")[0].appendChild(s);\n",
       "      }\n",
       "    };var element = document.getElementById(\"ee4e03c9-35c7-4c7b-a6b2-615dfb320c8d\");\n",
       "    if (element == null) {\n",
       "      console.log(\"Bokeh: ERROR: autoload.js configured with elementid 'ee4e03c9-35c7-4c7b-a6b2-615dfb320c8d' but no matching script tag was found. \")\n",
       "      return false;\n",
       "    }\n",
       "  \n",
       "    var js_urls = [];\n",
       "  \n",
       "    var inline_js = [\n",
       "      function(Bokeh) {\n",
       "        Bokeh.$(function() {\n",
       "            var docs_json = {\"28eb52fd-5482-42ff-820a-a289dc24a897\":{\"roots\":{\"references\":[{\"attributes\":{\"days\":[1,4,7,10,13,16,19,22,25,28]},\"id\":\"1ca537f2-b189-4fbe-9973-8474c8e4bb1e\",\"type\":\"DaysTicker\"},{\"attributes\":{\"months\":[0,4,8]},\"id\":\"4da807d2-9399-42c0-8da6-dbd9cb340411\",\"type\":\"MonthsTicker\"},{\"attributes\":{\"num_minor_ticks\":5},\"id\":\"097d191b-d81f-4c3c-bb9c-52ff5187755b\",\"type\":\"DatetimeTicker\"},{\"attributes\":{\"formatter\":{\"id\":\"fbac1a0a-eb99-40bb-a78b-1c2f43679793\",\"type\":\"BasicTickFormatter\"},\"plot\":{\"id\":\"e814d0ac-7308-4521-8c2d-8b0bbe54b419\",\"subtype\":\"Figure\",\"type\":\"Plot\"},\"ticker\":{\"id\":\"6c90aef4-95b7-4f94-83b2-c6f4735d809c\",\"type\":\"BasicTicker\"}},\"id\":\"e77385ce-1441-418b-8e69-2bd2e90643ec\",\"type\":\"LinearAxis\"},{\"attributes\":{\"months\":[0,2,4,6,8,10]},\"id\":\"40b9ac71-1c23-4d28-bed8-1289545a0ffb\",\"type\":\"MonthsTicker\"},{\"attributes\":{\"days\":[1,2,3,4,5,6,7,8,9,10,11,12,13,14,15,16,17,18,19,20,21,22,23,24,25,26,27,28,29,30,31]},\"id\":\"56b32f9e-5e4f-4f6e-8c53-5e8a5b11fb98\",\"type\":\"DaysTicker\"},{\"attributes\":{\"below\":[{\"id\":\"a8da8bbc-2668-4da4-b569-b409c05356ab\",\"type\":\"DatetimeAxis\"}],\"left\":[{\"id\":\"e77385ce-1441-418b-8e69-2bd2e90643ec\",\"type\":\"LinearAxis\"}],\"plot_height\":250,\"plot_width\":800,\"renderers\":[{\"id\":\"a8da8bbc-2668-4da4-b569-b409c05356ab\",\"type\":\"DatetimeAxis\"},{\"id\":\"408fc64c-ef7a-449f-b7a2-913323b2202d\",\"type\":\"Grid\"},{\"id\":\"e77385ce-1441-418b-8e69-2bd2e90643ec\",\"type\":\"LinearAxis\"},{\"id\":\"4d4a9a59-6b43-43d8-a3bd-82e30c497a0f\",\"type\":\"Grid\"},{\"id\":\"aad60266-c502-4b15-a8cc-174b20607517\",\"type\":\"BoxAnnotation\"},{\"id\":\"37fd4b4c-92af-4cee-b501-15e4fdd23b04\",\"type\":\"GlyphRenderer\"}],\"title\":{\"id\":\"f603aa9a-8bfe-4c13-9e35-8fb6bb918b08\",\"type\":\"Title\"},\"tool_events\":{\"id\":\"844a43a6-0171-4bf5-999f-fe355bf0da63\",\"type\":\"ToolEvents\"},\"toolbar\":{\"id\":\"5b3541dc-8c60-4d84-9cc5-0a17278a35af\",\"type\":\"Toolbar\"},\"x_range\":{\"id\":\"36a6f099-46ff-491f-84f4-5109066ae4e7\",\"type\":\"DataRange1d\"},\"y_range\":{\"id\":\"7a07a088-f15d-45d6-8631-5d0d4a6b6259\",\"type\":\"DataRange1d\"}},\"id\":\"e814d0ac-7308-4521-8c2d-8b0bbe54b419\",\"subtype\":\"Figure\",\"type\":\"Plot\"},{\"attributes\":{\"max_interval\":500.0,\"num_minor_ticks\":0},\"id\":\"8138bd72-90b4-4ab3-a61a-56916967d2c9\",\"type\":\"AdaptiveTicker\"},{\"attributes\":{\"plot\":{\"id\":\"e814d0ac-7308-4521-8c2d-8b0bbe54b419\",\"subtype\":\"Figure\",\"type\":\"Plot\"}},\"id\":\"f620ac4e-8779-4578-9d30-da960c93f2fd\",\"type\":\"WheelZoomTool\"},{\"attributes\":{\"months\":[0,6]},\"id\":\"eeb5437b-82f9-4667-a2b5-39d6aed4fb66\",\"type\":\"MonthsTicker\"},{\"attributes\":{\"formatter\":{\"id\":\"f0f9fbfc-d6a7-4843-b0c1-2a8108f0b77f\",\"type\":\"DatetimeTickFormatter\"},\"plot\":{\"id\":\"e814d0ac-7308-4521-8c2d-8b0bbe54b419\",\"subtype\":\"Figure\",\"type\":\"Plot\"},\"ticker\":{\"id\":\"097d191b-d81f-4c3c-bb9c-52ff5187755b\",\"type\":\"DatetimeTicker\"}},\"id\":\"a8da8bbc-2668-4da4-b569-b409c05356ab\",\"type\":\"DatetimeAxis\"},{\"attributes\":{\"base\":60,\"mantissas\":[1,2,5,10,15,20,30],\"max_interval\":1800000.0,\"min_interval\":1000.0,\"num_minor_ticks\":0},\"id\":\"60a83375-9399-4740-beed-5c22db24433b\",\"type\":\"AdaptiveTicker\"},{\"attributes\":{\"days\":[1,15]},\"id\":\"e13796f3-a173-4b25-a004-98429aaf13bc\",\"type\":\"DaysTicker\"},{\"attributes\":{\"plot\":{\"id\":\"e814d0ac-7308-4521-8c2d-8b0bbe54b419\",\"subtype\":\"Figure\",\"type\":\"Plot\"}},\"id\":\"a349a8c5-e1b6-4af3-bf26-d5c348e75568\",\"type\":\"PanTool\"},{\"attributes\":{\"line_alpha\":{\"value\":0.1},\"line_color\":{\"value\":\"#1f77b4\"},\"x\":{\"field\":\"x\"},\"y\":{\"field\":\"y\"}},\"id\":\"c182e0be-3631-45c0-8230-202f15bd8339\",\"type\":\"Line\"},{\"attributes\":{\"plot\":{\"id\":\"e814d0ac-7308-4521-8c2d-8b0bbe54b419\",\"subtype\":\"Figure\",\"type\":\"Plot\"}},\"id\":\"5f1a1f3c-c12b-42c5-a7e4-81e441db5ee5\",\"type\":\"ResetTool\"},{\"attributes\":{\"callback\":null},\"id\":\"36a6f099-46ff-491f-84f4-5109066ae4e7\",\"type\":\"DataRange1d\"},{\"attributes\":{\"callback\":null},\"id\":\"7a07a088-f15d-45d6-8631-5d0d4a6b6259\",\"type\":\"DataRange1d\"},{\"attributes\":{\"active_drag\":\"auto\",\"active_scroll\":\"auto\",\"active_tap\":\"auto\",\"tools\":[{\"id\":\"a349a8c5-e1b6-4af3-bf26-d5c348e75568\",\"type\":\"PanTool\"},{\"id\":\"f620ac4e-8779-4578-9d30-da960c93f2fd\",\"type\":\"WheelZoomTool\"},{\"id\":\"35105d91-769c-49cc-9113-398408872dd4\",\"type\":\"BoxZoomTool\"},{\"id\":\"b795def0-9ea0-4841-ac8d-d1c745104f11\",\"type\":\"SaveTool\"},{\"id\":\"5f1a1f3c-c12b-42c5-a7e4-81e441db5ee5\",\"type\":\"ResetTool\"},{\"id\":\"ef8985c3-237f-47dd-96e7-36a07aff6272\",\"type\":\"HelpTool\"}]},\"id\":\"5b3541dc-8c60-4d84-9cc5-0a17278a35af\",\"type\":\"Toolbar\"},{\"attributes\":{},\"id\":\"844a43a6-0171-4bf5-999f-fe355bf0da63\",\"type\":\"ToolEvents\"},{\"attributes\":{},\"id\":\"fbac1a0a-eb99-40bb-a78b-1c2f43679793\",\"type\":\"BasicTickFormatter\"},{\"attributes\":{\"plot\":{\"id\":\"e814d0ac-7308-4521-8c2d-8b0bbe54b419\",\"subtype\":\"Figure\",\"type\":\"Plot\"}},\"id\":\"ef8985c3-237f-47dd-96e7-36a07aff6272\",\"type\":\"HelpTool\"},{\"attributes\":{\"dimension\":1,\"plot\":{\"id\":\"e814d0ac-7308-4521-8c2d-8b0bbe54b419\",\"subtype\":\"Figure\",\"type\":\"Plot\"},\"ticker\":{\"id\":\"6c90aef4-95b7-4f94-83b2-c6f4735d809c\",\"type\":\"BasicTicker\"}},\"id\":\"4d4a9a59-6b43-43d8-a3bd-82e30c497a0f\",\"type\":\"Grid\"},{\"attributes\":{\"plot\":{\"id\":\"e814d0ac-7308-4521-8c2d-8b0bbe54b419\",\"subtype\":\"Figure\",\"type\":\"Plot\"},\"ticker\":{\"id\":\"097d191b-d81f-4c3c-bb9c-52ff5187755b\",\"type\":\"DatetimeTicker\"}},\"id\":\"408fc64c-ef7a-449f-b7a2-913323b2202d\",\"type\":\"Grid\"},{\"attributes\":{},\"id\":\"f0f9fbfc-d6a7-4843-b0c1-2a8108f0b77f\",\"type\":\"DatetimeTickFormatter\"},{\"attributes\":{},\"id\":\"6c90aef4-95b7-4f94-83b2-c6f4735d809c\",\"type\":\"BasicTicker\"},{\"attributes\":{\"months\":[0,1,2,3,4,5,6,7,8,9,10,11]},\"id\":\"91ff9f7a-cdbf-4d44-b194-536361879ab4\",\"type\":\"MonthsTicker\"},{\"attributes\":{\"plot\":null,\"text\":null},\"id\":\"f603aa9a-8bfe-4c13-9e35-8fb6bb918b08\",\"type\":\"Title\"},{\"attributes\":{\"bottom_units\":\"screen\",\"fill_alpha\":{\"value\":0.5},\"fill_color\":{\"value\":\"lightgrey\"},\"left_units\":\"screen\",\"level\":\"overlay\",\"line_alpha\":{\"value\":1.0},\"line_color\":{\"value\":\"black\"},\"line_dash\":[4,4],\"line_width\":{\"value\":2},\"plot\":null,\"render_mode\":\"css\",\"right_units\":\"screen\",\"top_units\":\"screen\"},\"id\":\"aad60266-c502-4b15-a8cc-174b20607517\",\"type\":\"BoxAnnotation\"},{\"attributes\":{},\"id\":\"b073658f-e436-4237-b970-650acb34712f\",\"type\":\"YearsTicker\"},{\"attributes\":{\"overlay\":{\"id\":\"aad60266-c502-4b15-a8cc-174b20607517\",\"type\":\"BoxAnnotation\"},\"plot\":{\"id\":\"e814d0ac-7308-4521-8c2d-8b0bbe54b419\",\"subtype\":\"Figure\",\"type\":\"Plot\"}},\"id\":\"35105d91-769c-49cc-9113-398408872dd4\",\"type\":\"BoxZoomTool\"},{\"attributes\":{\"data_source\":{\"id\":\"35e777bc-cbcb-408e-9b22-4176caecb0c9\",\"type\":\"ColumnDataSource\"},\"glyph\":{\"id\":\"88e4e368-501d-4d42-b5a3-d3d66011f7b7\",\"type\":\"Line\"},\"hover_glyph\":null,\"nonselection_glyph\":{\"id\":\"c182e0be-3631-45c0-8230-202f15bd8339\",\"type\":\"Line\"},\"selection_glyph\":null},\"id\":\"37fd4b4c-92af-4cee-b501-15e4fdd23b04\",\"type\":\"GlyphRenderer\"},{\"attributes\":{\"base\":24,\"mantissas\":[1,2,4,6,8,12],\"max_interval\":43200000.0,\"min_interval\":3600000.0,\"num_minor_ticks\":0},\"id\":\"c899e1b6-0cb9-46fc-bf90-e8e5807c3d90\",\"type\":\"AdaptiveTicker\"},{\"attributes\":{\"plot\":{\"id\":\"e814d0ac-7308-4521-8c2d-8b0bbe54b419\",\"subtype\":\"Figure\",\"type\":\"Plot\"}},\"id\":\"b795def0-9ea0-4841-ac8d-d1c745104f11\",\"type\":\"SaveTool\"},{\"attributes\":{\"days\":[1,8,15,22]},\"id\":\"bd74ea57-4578-4098-8e1e-b822bb6c33b8\",\"type\":\"DaysTicker\"},{\"attributes\":{\"callback\":null,\"column_names\":[\"y\",\"x\"],\"data\":{\"x\":[1458000000000.0,1460678400000.0,1463270400000.0],\"y\":[62,65,62]}},\"id\":\"35e777bc-cbcb-408e-9b22-4176caecb0c9\",\"type\":\"ColumnDataSource\"},{\"attributes\":{\"line_alpha\":{\"value\":0.5},\"line_color\":{\"value\":\"navy\"},\"x\":{\"field\":\"x\"},\"y\":{\"field\":\"y\"}},\"id\":\"88e4e368-501d-4d42-b5a3-d3d66011f7b7\",\"type\":\"Line\"}],\"root_ids\":[\"e814d0ac-7308-4521-8c2d-8b0bbe54b419\"]},\"title\":\"Bokeh Application\",\"version\":\"0.12.1\"}};\n",
       "            var render_items = [{\"docid\":\"28eb52fd-5482-42ff-820a-a289dc24a897\",\"elementid\":\"ee4e03c9-35c7-4c7b-a6b2-615dfb320c8d\",\"modelid\":\"e814d0ac-7308-4521-8c2d-8b0bbe54b419\",\"notebook_comms_target\":\"cb9885cf-57fa-4718-a9f3-4c439bac0985\"}];\n",
       "            \n",
       "            Bokeh.embed.embed_items(docs_json, render_items);\n",
       "        });\n",
       "      },\n",
       "      function(Bokeh) {\n",
       "      }\n",
       "    ];\n",
       "  \n",
       "    function run_inline_js() {\n",
       "      for (var i = 0; i < inline_js.length; i++) {\n",
       "        inline_js[i](window.Bokeh);\n",
       "      }\n",
       "    }\n",
       "  \n",
       "    if (window._bokeh_is_loading === 0) {\n",
       "      console.log(\"Bokeh: BokehJS loaded, going straight to plotting\");\n",
       "      run_inline_js();\n",
       "    } else {\n",
       "      load_libs(js_urls, function() {\n",
       "        console.log(\"Bokeh: BokehJS plotting callback run at\", now());\n",
       "        run_inline_js();\n",
       "      });\n",
       "    }\n",
       "  }(this));\n",
       "</script>"
      ]
     },
     "metadata": {},
     "output_type": "display_data"
    },
    {
     "data": {
      "text/html": [
       "<p><code>&lt;Bokeh Notebook handle for <strong>In[19]</strong>&gt;</code></p>"
      ],
      "text/plain": [
       "<bokeh.io._CommsHandle at 0x10817d410>"
      ]
     },
     "execution_count": 19,
     "metadata": {},
     "output_type": "execute_result"
    }
   ],
   "source": [
    "# create a new plot with a datetime axis type\n",
    "#legacy chart, uses dictionary\n",
    "p3 = figure(width=800, height=250, x_axis_type=\"datetime\")\n",
    "p3.line(grades_dict['grade_date'], grades_dict['grade'], color='navy', alpha=0.5)\n",
    "output_notebook()\n",
    "show(p3)"
   ]
  },
  {
   "cell_type": "code",
   "execution_count": 12,
   "metadata": {
    "collapsed": false
   },
   "outputs": [
    {
     "ename": "NameError",
     "evalue": "name 'figure' is not defined",
     "output_type": "error",
     "traceback": [
      "\u001b[0;31m---------------------------------------------------------------------------\u001b[0m",
      "\u001b[0;31mNameError\u001b[0m                                 Traceback (most recent call last)",
      "\u001b[0;32m<ipython-input-12-2401bccbf4d2>\u001b[0m in \u001b[0;36m<module>\u001b[0;34m()\u001b[0m\n\u001b[1;32m      4\u001b[0m \u001b[0mTOOLS\u001b[0m \u001b[0;34m=\u001b[0m \u001b[0;34m[\u001b[0m\u001b[0;34m'hover'\u001b[0m\u001b[0;34m,\u001b[0m \u001b[0;34m'pan'\u001b[0m\u001b[0;34m,\u001b[0m \u001b[0;34m'tap'\u001b[0m\u001b[0;34m]\u001b[0m\u001b[0;34m\u001b[0m\u001b[0m\n\u001b[1;32m      5\u001b[0m \u001b[0;34m\u001b[0m\u001b[0m\n\u001b[0;32m----> 6\u001b[0;31m \u001b[0mplot\u001b[0m \u001b[0;34m=\u001b[0m \u001b[0mfigure\u001b[0m\u001b[0;34m(\u001b[0m\u001b[0mx_axis_type\u001b[0m\u001b[0;34m=\u001b[0m\u001b[0;34m'datetime'\u001b[0m\u001b[0;34m,\u001b[0m \u001b[0mplot_height\u001b[0m\u001b[0;34m=\u001b[0m\u001b[0;36m250\u001b[0m\u001b[0;34m,\u001b[0m \u001b[0mtools\u001b[0m\u001b[0;34m=\u001b[0m\u001b[0mTOOLS\u001b[0m\u001b[0;34m)\u001b[0m\u001b[0;34m\u001b[0m\u001b[0m\n\u001b[0m\u001b[1;32m      7\u001b[0m \u001b[0;34m\u001b[0m\u001b[0m\n\u001b[1;32m      8\u001b[0m \u001b[0mplot\u001b[0m\u001b[0;34m.\u001b[0m\u001b[0mline\u001b[0m\u001b[0;34m(\u001b[0m\u001b[0;34m'grade_date'\u001b[0m\u001b[0;34m,\u001b[0m \u001b[0;34m'grade'\u001b[0m\u001b[0;34m,\u001b[0m \u001b[0mline_width\u001b[0m\u001b[0;34m=\u001b[0m\u001b[0;36m5\u001b[0m\u001b[0;34m,\u001b[0m \u001b[0msource\u001b[0m\u001b[0;34m=\u001b[0m\u001b[0msource\u001b[0m\u001b[0;34m)\u001b[0m\u001b[0;34m\u001b[0m\u001b[0m\n",
      "\u001b[0;31mNameError\u001b[0m: name 'figure' is not defined"
     ]
    }
   ],
   "source": [
    "from bokeh.models import Range1d, OpenURL, TapTool, HoverTool, ColumnDataSource, DatetimeTickFormatter\n",
    "source = ColumnDataSource(data=grades_dict)\n",
    "\n",
    "TOOLS = ['hover', 'pan', 'tap']\n",
    "\n",
    "plot = figure(x_axis_type='datetime', plot_height=250, tools=TOOLS)\n",
    "\n",
    "plot.line('grade_date', 'grade', line_width=5, source=source)\n",
    "output_notebook()\n",
    "show(plot)"
   ]
  },
  {
   "cell_type": "code",
   "execution_count": 13,
   "metadata": {
    "collapsed": false
   },
   "outputs": [
    {
     "data": {
      "text/html": [
       "\n",
       "    <div class=\"bk-root\">\n",
       "        <a href=\"http://bokeh.pydata.org\" target=\"_blank\" class=\"bk-logo bk-logo-small bk-logo-notebook\"></a>\n",
       "        <span id=\"077a6dbc-d6b2-4a23-baa0-78d651bd8e2f\">Loading BokehJS ...</span>\n",
       "    </div>"
      ]
     },
     "metadata": {},
     "output_type": "display_data"
    },
    {
     "data": {
      "application/javascript": [
       "\n",
       "(function(global) {\n",
       "  function now() {\n",
       "    return new Date();\n",
       "  }\n",
       "\n",
       "  var force = \"1\";\n",
       "\n",
       "  if (typeof (window._bokeh_onload_callbacks) === \"undefined\" || force !== \"\") {\n",
       "    window._bokeh_onload_callbacks = [];\n",
       "    window._bokeh_is_loading = undefined;\n",
       "  }\n",
       "\n",
       "  function run_callbacks() {\n",
       "    window._bokeh_onload_callbacks.forEach(function(callback) { callback() });\n",
       "    delete window._bokeh_onload_callbacks\n",
       "    console.info(\"Bokeh: all callbacks have finished\");\n",
       "  }\n",
       "\n",
       "  function load_libs(js_urls, callback) {\n",
       "    window._bokeh_onload_callbacks.push(callback);\n",
       "    if (window._bokeh_is_loading > 0) {\n",
       "      console.log(\"Bokeh: BokehJS is being loaded, scheduling callback at\", now());\n",
       "      return null;\n",
       "    }\n",
       "    if (js_urls == null || js_urls.length === 0) {\n",
       "      run_callbacks();\n",
       "      return null;\n",
       "    }\n",
       "    console.log(\"Bokeh: BokehJS not loaded, scheduling load and callback at\", now());\n",
       "    window._bokeh_is_loading = js_urls.length;\n",
       "    for (var i = 0; i < js_urls.length; i++) {\n",
       "      var url = js_urls[i];\n",
       "      var s = document.createElement('script');\n",
       "      s.src = url;\n",
       "      s.async = false;\n",
       "      s.onreadystatechange = s.onload = function() {\n",
       "        window._bokeh_is_loading--;\n",
       "        if (window._bokeh_is_loading === 0) {\n",
       "          console.log(\"Bokeh: all BokehJS libraries loaded\");\n",
       "          run_callbacks()\n",
       "        }\n",
       "      };\n",
       "      s.onerror = function() {\n",
       "        console.warn(\"failed to load library \" + url);\n",
       "      };\n",
       "      console.log(\"Bokeh: injecting script tag for BokehJS library: \", url);\n",
       "      document.getElementsByTagName(\"head\")[0].appendChild(s);\n",
       "    }\n",
       "  };\n",
       "\n",
       "  var js_urls = ['https://cdn.pydata.org/bokeh/release/bokeh-0.12.1.min.js', 'https://cdn.pydata.org/bokeh/release/bokeh-widgets-0.12.1.min.js', 'https://cdn.pydata.org/bokeh/release/bokeh-compiler-0.12.1.min.js'];\n",
       "\n",
       "  var inline_js = [\n",
       "    function(Bokeh) {\n",
       "      Bokeh.set_log_level(\"info\");\n",
       "    },\n",
       "    \n",
       "    function(Bokeh) {\n",
       "      \n",
       "      Bokeh.$(\"#077a6dbc-d6b2-4a23-baa0-78d651bd8e2f\").text(\"BokehJS successfully loaded\");\n",
       "      var kernel = Jupyter.notebook.kernel\n",
       "      if (kernel.execute !== undefined) {\n",
       "          kernel.execute(\"import bokeh.io; bokeh.io._nb_loaded = True\");\n",
       "      }\n",
       "    },\n",
       "    function(Bokeh) {\n",
       "      console.log(\"Bokeh: injecting CSS: https://cdn.pydata.org/bokeh/release/bokeh-0.12.1.min.css\");\n",
       "      Bokeh.embed.inject_css(\"https://cdn.pydata.org/bokeh/release/bokeh-0.12.1.min.css\");\n",
       "      console.log(\"Bokeh: injecting CSS: https://cdn.pydata.org/bokeh/release/bokeh-widgets-0.12.1.min.css\");\n",
       "      Bokeh.embed.inject_css(\"https://cdn.pydata.org/bokeh/release/bokeh-widgets-0.12.1.min.css\");\n",
       "    }\n",
       "  ];\n",
       "\n",
       "  function run_inline_js() {\n",
       "    for (var i = 0; i < inline_js.length; i++) {\n",
       "      inline_js[i](window.Bokeh);\n",
       "    }\n",
       "  }\n",
       "\n",
       "  if (window._bokeh_is_loading === 0) {\n",
       "    console.log(\"Bokeh: BokehJS loaded, going straight to plotting\");\n",
       "    run_inline_js();\n",
       "  } else {\n",
       "    load_libs(js_urls, function() {\n",
       "      console.log(\"Bokeh: BokehJS plotting callback run at\", now());\n",
       "      run_inline_js();\n",
       "    });\n",
       "  }\n",
       "}(this));"
      ]
     },
     "metadata": {},
     "output_type": "display_data"
    },
    {
     "ename": "NameError",
     "evalue": "name 'show' is not defined",
     "output_type": "error",
     "traceback": [
      "\u001b[0;31m---------------------------------------------------------------------------\u001b[0m",
      "\u001b[0;31mNameError\u001b[0m                                 Traceback (most recent call last)",
      "\u001b[0;32m<ipython-input-13-e76d6e80948a>\u001b[0m in \u001b[0;36m<module>\u001b[0;34m()\u001b[0m\n\u001b[1;32m      3\u001b[0m \u001b[0mp2\u001b[0m \u001b[0;34m=\u001b[0m \u001b[0mBar\u001b[0m\u001b[0;34m(\u001b[0m\u001b[0mdf_grades\u001b[0m\u001b[0;34m,\u001b[0m \u001b[0mvalues\u001b[0m\u001b[0;34m=\u001b[0m\u001b[0;34m'grade'\u001b[0m\u001b[0;34m,\u001b[0m \u001b[0mlabel\u001b[0m\u001b[0;34m=\u001b[0m\u001b[0;34m'grade_date'\u001b[0m \u001b[0;34m)\u001b[0m\u001b[0;34m\u001b[0m\u001b[0m\n\u001b[1;32m      4\u001b[0m \u001b[0moutput_notebook\u001b[0m\u001b[0;34m(\u001b[0m\u001b[0;34m)\u001b[0m\u001b[0;34m\u001b[0m\u001b[0m\n\u001b[0;32m----> 5\u001b[0;31m \u001b[0mshow\u001b[0m\u001b[0;34m(\u001b[0m\u001b[0mp2\u001b[0m\u001b[0;34m)\u001b[0m\u001b[0;34m\u001b[0m\u001b[0m\n\u001b[0m",
      "\u001b[0;31mNameError\u001b[0m: name 'show' is not defined"
     ]
    }
   ],
   "source": [
    "from bokeh.charts import Bar\n",
    "\n",
    "p2 = Bar(df_grades, values='grade', label='grade_date' )\n",
    "output_notebook()\n",
    "show(p2)"
   ]
  },
  {
   "cell_type": "code",
   "execution_count": 14,
   "metadata": {
    "collapsed": false
   },
   "outputs": [
    {
     "data": {
      "text/html": [
       "\n",
       "\n",
       "    <div class=\"bk-root\">\n",
       "        <div class=\"plotdiv\" id=\"68354619-c53c-49d9-82a5-d36a1f772834\"></div>\n",
       "    </div>\n",
       "<script type=\"text/javascript\">\n",
       "  \n",
       "  (function(global) {\n",
       "    function now() {\n",
       "      return new Date();\n",
       "    }\n",
       "  \n",
       "    var force = \"\";\n",
       "  \n",
       "    if (typeof (window._bokeh_onload_callbacks) === \"undefined\" || force !== \"\") {\n",
       "      window._bokeh_onload_callbacks = [];\n",
       "      window._bokeh_is_loading = undefined;\n",
       "    }\n",
       "  \n",
       "    function run_callbacks() {\n",
       "      window._bokeh_onload_callbacks.forEach(function(callback) { callback() });\n",
       "      delete window._bokeh_onload_callbacks\n",
       "      console.info(\"Bokeh: all callbacks have finished\");\n",
       "    }\n",
       "  \n",
       "    function load_libs(js_urls, callback) {\n",
       "      window._bokeh_onload_callbacks.push(callback);\n",
       "      if (window._bokeh_is_loading > 0) {\n",
       "        console.log(\"Bokeh: BokehJS is being loaded, scheduling callback at\", now());\n",
       "        return null;\n",
       "      }\n",
       "      if (js_urls == null || js_urls.length === 0) {\n",
       "        run_callbacks();\n",
       "        return null;\n",
       "      }\n",
       "      console.log(\"Bokeh: BokehJS not loaded, scheduling load and callback at\", now());\n",
       "      window._bokeh_is_loading = js_urls.length;\n",
       "      for (var i = 0; i < js_urls.length; i++) {\n",
       "        var url = js_urls[i];\n",
       "        var s = document.createElement('script');\n",
       "        s.src = url;\n",
       "        s.async = false;\n",
       "        s.onreadystatechange = s.onload = function() {\n",
       "          window._bokeh_is_loading--;\n",
       "          if (window._bokeh_is_loading === 0) {\n",
       "            console.log(\"Bokeh: all BokehJS libraries loaded\");\n",
       "            run_callbacks()\n",
       "          }\n",
       "        };\n",
       "        s.onerror = function() {\n",
       "          console.warn(\"failed to load library \" + url);\n",
       "        };\n",
       "        console.log(\"Bokeh: injecting script tag for BokehJS library: \", url);\n",
       "        document.getElementsByTagName(\"head\")[0].appendChild(s);\n",
       "      }\n",
       "    };var element = document.getElementById(\"68354619-c53c-49d9-82a5-d36a1f772834\");\n",
       "    if (element == null) {\n",
       "      console.log(\"Bokeh: ERROR: autoload.js configured with elementid '68354619-c53c-49d9-82a5-d36a1f772834' but no matching script tag was found. \")\n",
       "      return false;\n",
       "    }\n",
       "  \n",
       "    var js_urls = [];\n",
       "  \n",
       "    var inline_js = [\n",
       "      function(Bokeh) {\n",
       "        Bokeh.$(function() {\n",
       "            var docs_json = {\"bc814357-64bc-4edc-b8a7-a72a5e7b20c3\":{\"roots\":{\"references\":[{\"attributes\":{\"plot\":{\"id\":\"5ec96bd1-c9ff-4ace-94b5-b699f131057c\",\"subtype\":\"Figure\",\"type\":\"Plot\"},\"ticker\":{\"id\":\"ba48a7a3-6e13-4da0-9dcf-ab0f888340c8\",\"type\":\"BasicTicker\"}},\"id\":\"8664ef33-5e31-4e2a-9fc1-254ff8ad8a4a\",\"type\":\"Grid\"},{\"attributes\":{\"bottom_units\":\"screen\",\"fill_alpha\":{\"value\":0.5},\"fill_color\":{\"value\":\"lightgrey\"},\"left_units\":\"screen\",\"level\":\"overlay\",\"line_alpha\":{\"value\":1.0},\"line_color\":{\"value\":\"black\"},\"line_dash\":[4,4],\"line_width\":{\"value\":2},\"plot\":null,\"render_mode\":\"css\",\"right_units\":\"screen\",\"top_units\":\"screen\"},\"id\":\"52ccd8b3-fbc0-421d-8433-a78cf283ad4f\",\"type\":\"BoxAnnotation\"},{\"attributes\":{\"callback\":null},\"id\":\"57736520-51c1-4b42-ab02-e2389bdd9183\",\"type\":\"DataRange1d\"},{\"attributes\":{\"formatter\":{\"id\":\"fedb4662-971e-4a5e-811c-21bb00c345bf\",\"type\":\"BasicTickFormatter\"},\"plot\":{\"id\":\"5ec96bd1-c9ff-4ace-94b5-b699f131057c\",\"subtype\":\"Figure\",\"type\":\"Plot\"},\"ticker\":{\"id\":\"d8ba65f6-ca14-4b1b-8a62-cefe8ced304a\",\"type\":\"BasicTicker\"}},\"id\":\"33a3bcfa-5778-4c6b-90bf-0b727276d600\",\"type\":\"LinearAxis\"},{\"attributes\":{},\"id\":\"d8ba65f6-ca14-4b1b-8a62-cefe8ced304a\",\"type\":\"BasicTicker\"},{\"attributes\":{\"active_drag\":\"auto\",\"active_scroll\":\"auto\",\"active_tap\":\"auto\",\"tools\":[{\"id\":\"40a8896b-f35e-4d53-a503-571ad28b160f\",\"type\":\"PanTool\"},{\"id\":\"fa07c56b-fa89-4f75-b834-a4d51781e51f\",\"type\":\"WheelZoomTool\"},{\"id\":\"9aaae0e1-80b3-46cd-9218-3415410a171d\",\"type\":\"BoxZoomTool\"},{\"id\":\"7006e373-0f92-48c7-9dd4-88c33f9be097\",\"type\":\"SaveTool\"},{\"id\":\"4ccdbbc5-8a9d-4a20-93ed-58cd8315cc81\",\"type\":\"ResetTool\"},{\"id\":\"11b6b0b5-f16b-4f0c-a782-ad7ed61d00f6\",\"type\":\"HelpTool\"}]},\"id\":\"3467c736-a709-4625-81fb-f2ee3e37eaaf\",\"type\":\"Toolbar\"},{\"attributes\":{\"callback\":null,\"column_names\":[\"y\",\"x\"],\"data\":{\"x\":[1420070400000.0,1420156800000.0,1420243200000.0],\"y\":[1,2,3]}},\"id\":\"5ff45c2e-d4c6-4075-a296-f0d8b5667548\",\"type\":\"ColumnDataSource\"},{\"attributes\":{\"callback\":null},\"id\":\"39bbca83-8d15-41c3-bfb9-e76e15141b1c\",\"type\":\"DataRange1d\"},{\"attributes\":{\"plot\":{\"id\":\"5ec96bd1-c9ff-4ace-94b5-b699f131057c\",\"subtype\":\"Figure\",\"type\":\"Plot\"}},\"id\":\"7006e373-0f92-48c7-9dd4-88c33f9be097\",\"type\":\"SaveTool\"},{\"attributes\":{\"data_source\":{\"id\":\"5ff45c2e-d4c6-4075-a296-f0d8b5667548\",\"type\":\"ColumnDataSource\"},\"glyph\":{\"id\":\"e67a35cd-5212-457f-9ce3-38377c4e4c2b\",\"type\":\"Line\"},\"hover_glyph\":null,\"nonselection_glyph\":{\"id\":\"d84d0349-0eb3-46c9-8531-da5e22291a9e\",\"type\":\"Line\"},\"selection_glyph\":null},\"id\":\"f59805d9-26ec-4780-ab5a-d97d6ae40a2d\",\"type\":\"GlyphRenderer\"},{\"attributes\":{\"plot\":{\"id\":\"5ec96bd1-c9ff-4ace-94b5-b699f131057c\",\"subtype\":\"Figure\",\"type\":\"Plot\"}},\"id\":\"11b6b0b5-f16b-4f0c-a782-ad7ed61d00f6\",\"type\":\"HelpTool\"},{\"attributes\":{},\"id\":\"fedb4662-971e-4a5e-811c-21bb00c345bf\",\"type\":\"BasicTickFormatter\"},{\"attributes\":{\"below\":[{\"id\":\"0a30aa03-9c6a-401e-91a1-62d6101064e9\",\"type\":\"LinearAxis\"}],\"left\":[{\"id\":\"33a3bcfa-5778-4c6b-90bf-0b727276d600\",\"type\":\"LinearAxis\"}],\"plot_height\":400,\"plot_width\":400,\"renderers\":[{\"id\":\"0a30aa03-9c6a-401e-91a1-62d6101064e9\",\"type\":\"LinearAxis\"},{\"id\":\"8664ef33-5e31-4e2a-9fc1-254ff8ad8a4a\",\"type\":\"Grid\"},{\"id\":\"33a3bcfa-5778-4c6b-90bf-0b727276d600\",\"type\":\"LinearAxis\"},{\"id\":\"6fa2bb02-180a-4bc8-bfc2-88433c47cf5a\",\"type\":\"Grid\"},{\"id\":\"52ccd8b3-fbc0-421d-8433-a78cf283ad4f\",\"type\":\"BoxAnnotation\"},{\"id\":\"f59805d9-26ec-4780-ab5a-d97d6ae40a2d\",\"type\":\"GlyphRenderer\"}],\"title\":{\"id\":\"b6146bae-206f-46e7-8d9c-6d7672ab0790\",\"type\":\"Title\"},\"tool_events\":{\"id\":\"b3e1a4a2-1522-4a90-89d2-48ee49279c2f\",\"type\":\"ToolEvents\"},\"toolbar\":{\"id\":\"3467c736-a709-4625-81fb-f2ee3e37eaaf\",\"type\":\"Toolbar\"},\"x_range\":{\"id\":\"39bbca83-8d15-41c3-bfb9-e76e15141b1c\",\"type\":\"DataRange1d\"},\"y_range\":{\"id\":\"57736520-51c1-4b42-ab02-e2389bdd9183\",\"type\":\"DataRange1d\"}},\"id\":\"5ec96bd1-c9ff-4ace-94b5-b699f131057c\",\"subtype\":\"Figure\",\"type\":\"Plot\"},{\"attributes\":{\"plot\":null,\"text\":null},\"id\":\"b6146bae-206f-46e7-8d9c-6d7672ab0790\",\"type\":\"Title\"},{\"attributes\":{\"line_color\":{\"value\":\"#1f77b4\"},\"x\":{\"field\":\"x\"},\"y\":{\"field\":\"y\"}},\"id\":\"e67a35cd-5212-457f-9ce3-38377c4e4c2b\",\"type\":\"Line\"},{\"attributes\":{\"line_alpha\":{\"value\":0.1},\"line_color\":{\"value\":\"#1f77b4\"},\"x\":{\"field\":\"x\"},\"y\":{\"field\":\"y\"}},\"id\":\"d84d0349-0eb3-46c9-8531-da5e22291a9e\",\"type\":\"Line\"},{\"attributes\":{},\"id\":\"b3e1a4a2-1522-4a90-89d2-48ee49279c2f\",\"type\":\"ToolEvents\"},{\"attributes\":{\"overlay\":{\"id\":\"52ccd8b3-fbc0-421d-8433-a78cf283ad4f\",\"type\":\"BoxAnnotation\"},\"plot\":{\"id\":\"5ec96bd1-c9ff-4ace-94b5-b699f131057c\",\"subtype\":\"Figure\",\"type\":\"Plot\"}},\"id\":\"9aaae0e1-80b3-46cd-9218-3415410a171d\",\"type\":\"BoxZoomTool\"},{\"attributes\":{\"formatter\":{\"id\":\"7009927f-1c7f-47a7-a06e-1332c4197ea1\",\"type\":\"DatetimeTickFormatter\"},\"major_label_orientation\":0.7853981633974483,\"plot\":{\"id\":\"5ec96bd1-c9ff-4ace-94b5-b699f131057c\",\"subtype\":\"Figure\",\"type\":\"Plot\"},\"ticker\":{\"id\":\"ba48a7a3-6e13-4da0-9dcf-ab0f888340c8\",\"type\":\"BasicTicker\"}},\"id\":\"0a30aa03-9c6a-401e-91a1-62d6101064e9\",\"type\":\"LinearAxis\"},{\"attributes\":{\"plot\":{\"id\":\"5ec96bd1-c9ff-4ace-94b5-b699f131057c\",\"subtype\":\"Figure\",\"type\":\"Plot\"}},\"id\":\"40a8896b-f35e-4d53-a503-571ad28b160f\",\"type\":\"PanTool\"},{\"attributes\":{\"dimension\":1,\"plot\":{\"id\":\"5ec96bd1-c9ff-4ace-94b5-b699f131057c\",\"subtype\":\"Figure\",\"type\":\"Plot\"},\"ticker\":{\"id\":\"d8ba65f6-ca14-4b1b-8a62-cefe8ced304a\",\"type\":\"BasicTicker\"}},\"id\":\"6fa2bb02-180a-4bc8-bfc2-88433c47cf5a\",\"type\":\"Grid\"},{\"attributes\":{\"plot\":{\"id\":\"5ec96bd1-c9ff-4ace-94b5-b699f131057c\",\"subtype\":\"Figure\",\"type\":\"Plot\"}},\"id\":\"4ccdbbc5-8a9d-4a20-93ed-58cd8315cc81\",\"type\":\"ResetTool\"},{\"attributes\":{\"plot\":{\"id\":\"5ec96bd1-c9ff-4ace-94b5-b699f131057c\",\"subtype\":\"Figure\",\"type\":\"Plot\"}},\"id\":\"fa07c56b-fa89-4f75-b834-a4d51781e51f\",\"type\":\"WheelZoomTool\"},{\"attributes\":{},\"id\":\"ba48a7a3-6e13-4da0-9dcf-ab0f888340c8\",\"type\":\"BasicTicker\"},{\"attributes\":{\"formats\":{\"days\":[\"%d %B %Y\"],\"hours\":[\"%d %B %Y\"],\"months\":[\"%d %B %Y\"],\"years\":[\"%d %B %Y\"]}},\"id\":\"7009927f-1c7f-47a7-a06e-1332c4197ea1\",\"type\":\"DatetimeTickFormatter\"}],\"root_ids\":[\"5ec96bd1-c9ff-4ace-94b5-b699f131057c\"]},\"title\":\"Bokeh Application\",\"version\":\"0.12.1\"}};\n",
       "            var render_items = [{\"docid\":\"bc814357-64bc-4edc-b8a7-a72a5e7b20c3\",\"elementid\":\"68354619-c53c-49d9-82a5-d36a1f772834\",\"modelid\":\"5ec96bd1-c9ff-4ace-94b5-b699f131057c\",\"notebook_comms_target\":\"da29cae0-a29e-4c06-8164-246ab10aec05\"}];\n",
       "            \n",
       "            Bokeh.embed.embed_items(docs_json, render_items);\n",
       "        });\n",
       "      },\n",
       "      function(Bokeh) {\n",
       "      }\n",
       "    ];\n",
       "  \n",
       "    function run_inline_js() {\n",
       "      for (var i = 0; i < inline_js.length; i++) {\n",
       "        inline_js[i](window.Bokeh);\n",
       "      }\n",
       "    }\n",
       "  \n",
       "    if (window._bokeh_is_loading === 0) {\n",
       "      console.log(\"Bokeh: BokehJS loaded, going straight to plotting\");\n",
       "      run_inline_js();\n",
       "    } else {\n",
       "      load_libs(js_urls, function() {\n",
       "        console.log(\"Bokeh: BokehJS plotting callback run at\", now());\n",
       "        run_inline_js();\n",
       "      });\n",
       "    }\n",
       "  }(this));\n",
       "</script>"
      ]
     },
     "metadata": {},
     "output_type": "display_data"
    },
    {
     "data": {
      "text/html": [
       "<p><code>&lt;Bokeh Notebook handle for <strong>In[14]</strong>&gt;</code></p>"
      ],
      "text/plain": [
       "<bokeh.io._CommsHandle at 0x108167150>"
      ]
     },
     "execution_count": 14,
     "metadata": {},
     "output_type": "execute_result"
    }
   ],
   "source": [
    "from math import pi\n",
    "from datetime import datetime as dt\n",
    "\n",
    "from bokeh.models import DatetimeTickFormatter\n",
    "\n",
    "\n",
    "df = pandas.DataFrame(data=[1,2,3],\n",
    "                  index=[dt(2015, 1, 1), dt(2015, 1, 2), dt(2015, 1, 3)],\n",
    "                  columns=['foo'])\n",
    "p2 = figure(plot_width=400, plot_height=400)\n",
    "p2.line(df.index, df['foo'])\n",
    "p2.xaxis.formatter=DatetimeTickFormatter(formats=dict(\n",
    "        hours=[\"%d %B %Y\"],\n",
    "        days=[\"%d %B %Y\"],\n",
    "        months=[\"%d %B %Y\"],\n",
    "        years=[\"%d %B %Y\"],\n",
    "    ))\n",
    "p2.xaxis.major_label_orientation = pi/4\n",
    "show(p2)"
   ]
  },
  {
   "cell_type": "code",
   "execution_count": null,
   "metadata": {
    "collapsed": true
   },
   "outputs": [],
   "source": []
  }
 ],
 "metadata": {
  "kernelspec": {
   "display_name": "Django Shell-Plus",
   "language": "python",
   "name": "django_extensions"
  },
  "language_info": {
   "codemirror_mode": {
    "name": "ipython",
    "version": 2
   },
   "file_extension": ".py",
   "mimetype": "text/x-python",
   "name": "python",
   "nbconvert_exporter": "python",
   "pygments_lexer": "ipython2",
   "version": "2.7.6"
  }
 },
 "nbformat": 4,
 "nbformat_minor": 1
}
