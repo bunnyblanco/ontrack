{
 "cells": [
  {
   "cell_type": "code",
   "execution_count": 4,
   "metadata": {
    "collapsed": false
   },
   "outputs": [],
   "source": [
    "\n",
    "from student.models import Grade, Student, Attendance\n",
    "\n",
    "#sql to pandas\n",
    "import pandas\n",
    "from django.db import connection\n",
    "\n",
    "#for notebook only\n",
    "from bokeh.charts import show\n",
    "from bokeh.io import output_notebook\n",
    "\n",
    "#google\n",
    "import gviz_api\n",
    "from gviz_data_table import Table  \n"
   ]
  },
  {
   "cell_type": "code",
   "execution_count": 9,
   "metadata": {
    "collapsed": false
   },
   "outputs": [],
   "source": [
    "\n",
    "attend_sql=\"Select attend_date, absent_days, total_days \\\n",
    "FROM student_attendance WHERE student_id=1\"\n",
    "df_attend = pandas.read_sql(attend_sql, con=connection)\n",
    "attend_dict=df_attend.to_dict(orient=\"records\")\n",
    "description = {\"absent_days\": (\"number\", \"Absences\"),\n",
    "                 \"attend_date\": (\"date\", \"Date\"),\n",
    "                 \"total_days\": (\"number\", \"Total Days\")}\n",
    "\n",
    "\n",
    "# Loading it into gviz_api.DataTable\n",
    "data_table = gviz_api.DataTable(description)\n",
    "data_table.LoadData(attend_dict)\n",
    "\n",
    "\n"
   ]
  },
  {
   "cell_type": "code",
   "execution_count": 8,
   "metadata": {
    "collapsed": false
   },
   "outputs": [
    {
     "data": {
      "text/plain": [
       "<gviz_api.DataTable at 0x10cbfdbd0>"
      ]
     },
     "execution_count": 8,
     "metadata": {},
     "output_type": "execute_result"
    }
   ],
   "source": []
  },
  {
   "cell_type": "code",
   "execution_count": null,
   "metadata": {
    "collapsed": true
   },
   "outputs": [],
   "source": []
  }
 ],
 "metadata": {
  "kernelspec": {
   "display_name": "Django Shell-Plus",
   "language": "python",
   "name": "django_extensions"
  },
  "language_info": {
   "codemirror_mode": {
    "name": "ipython",
    "version": 2
   },
   "file_extension": ".py",
   "mimetype": "text/x-python",
   "name": "python",
   "nbconvert_exporter": "python",
   "pygments_lexer": "ipython2",
   "version": "2.7.6"
  }
 },
 "nbformat": 4,
 "nbformat_minor": 1
}
