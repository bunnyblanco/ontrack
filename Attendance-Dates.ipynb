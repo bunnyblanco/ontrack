{
 "cells": [
  {
   "cell_type": "code",
   "execution_count": 3,
   "metadata": {
    "collapsed": false
   },
   "outputs": [],
   "source": [
    "from django.shortcuts import render\n",
    "from student.models import Grade, Student, Attendance\n",
    "\n",
    "#sql to JSON\n",
    "from django.core import serializers\n",
    "import jsonpickle\n",
    "\n",
    "#sql to pandas\n",
    "import pandas\n",
    "from django.db import connection\n",
    "\n",
    "#bokeh\n",
    "import datetime\n",
    "from collections import OrderedDict\n",
    "import numpy as np\n",
    "from bokeh.models import HoverTool, ColumnDataSource\n",
    "from bokeh.palettes import Spectral11, Blues9, Blues5\n",
    "from bokeh.plotting import figure\n",
    "from bokeh.charts import Scatter, TimeSeries\n",
    "\n",
    "\n",
    "\n",
    "#for notebook only\n",
    "from bokeh.charts import show\n",
    "from bokeh.io import output_notebook\n",
    "from bokeh.resources import INLINE\n",
    "\n",
    "#google\n",
    "import gviz_api\n",
    "from gviz_data_table import Table  \n",
    "import numpy as np\n",
    "import pandas as pd"
   ]
  },
  {
   "cell_type": "code",
   "execution_count": 4,
   "metadata": {
    "collapsed": false
   },
   "outputs": [
    {
     "data": {
      "text/plain": [
       "95.0"
      ]
     },
     "execution_count": 4,
     "metadata": {},
     "output_type": "execute_result"
    }
   ],
   "source": [
    "attend=Attendance.objects.filter(student_id=2).order_by('-attend_date')[1].calc_pct()\n",
    "round(attend)\n"
   ]
  },
  {
   "cell_type": "code",
   "execution_count": 5,
   "metadata": {
    "collapsed": false
   },
   "outputs": [
    {
     "data": {
      "text/html": [
       "<div>\n",
       "<table border=\"1\" class=\"dataframe\">\n",
       "  <thead>\n",
       "    <tr style=\"text-align: right;\">\n",
       "      <th></th>\n",
       "      <th>attend_date</th>\n",
       "      <th>absent_days</th>\n",
       "      <th>total_days</th>\n",
       "    </tr>\n",
       "  </thead>\n",
       "  <tbody>\n",
       "    <tr>\n",
       "      <th>0</th>\n",
       "      <td>2015-03-15</td>\n",
       "      <td>1.0</td>\n",
       "      <td>70.0</td>\n",
       "    </tr>\n",
       "    <tr>\n",
       "      <th>1</th>\n",
       "      <td>2015-03-30</td>\n",
       "      <td>1.0</td>\n",
       "      <td>85.0</td>\n",
       "    </tr>\n",
       "    <tr>\n",
       "      <th>2</th>\n",
       "      <td>2015-04-15</td>\n",
       "      <td>1.5</td>\n",
       "      <td>99.0</td>\n",
       "    </tr>\n",
       "    <tr>\n",
       "      <th>3</th>\n",
       "      <td>2015-04-30</td>\n",
       "      <td>1.5</td>\n",
       "      <td>114.0</td>\n",
       "    </tr>\n",
       "    <tr>\n",
       "      <th>4</th>\n",
       "      <td>2015-05-15</td>\n",
       "      <td>2.5</td>\n",
       "      <td>129.0</td>\n",
       "    </tr>\n",
       "    <tr>\n",
       "      <th>5</th>\n",
       "      <td>2015-05-30</td>\n",
       "      <td>1.5</td>\n",
       "      <td>144.0</td>\n",
       "    </tr>\n",
       "  </tbody>\n",
       "</table>\n",
       "</div>"
      ],
      "text/plain": [
       "  attend_date  absent_days  total_days\n",
       "0  2015-03-15          1.0        70.0\n",
       "1  2015-03-30          1.0        85.0\n",
       "2  2015-04-15          1.5        99.0\n",
       "3  2015-04-30          1.5       114.0\n",
       "4  2015-05-15          2.5       129.0\n",
       "5  2015-05-30          1.5       144.0"
      ]
     },
     "execution_count": 5,
     "metadata": {},
     "output_type": "execute_result"
    }
   ],
   "source": [
    "attend_sql=\"Select attend_date, absent_days, total_days \\\n",
    "FROM student_attendance WHERE student_id=1\"\n",
    "df_attend = pandas.read_sql(attend_sql, con=connection)\n",
    "df_attend\n",
    "\n"
   ]
  },
  {
   "cell_type": "code",
   "execution_count": 6,
   "metadata": {
    "collapsed": false
   },
   "outputs": [
    {
     "data": {
      "text/plain": [
       "[{'absent_days': 1.0,\n",
       "  'attend_date': datetime.date(2015, 3, 15),\n",
       "  'total_days': 70.0},\n",
       " {'absent_days': 1.0,\n",
       "  'attend_date': datetime.date(2015, 3, 30),\n",
       "  'total_days': 85.0},\n",
       " {'absent_days': 1.5,\n",
       "  'attend_date': datetime.date(2015, 4, 15),\n",
       "  'total_days': 99.0},\n",
       " {'absent_days': 1.5,\n",
       "  'attend_date': datetime.date(2015, 4, 30),\n",
       "  'total_days': 114.0},\n",
       " {'absent_days': 2.5,\n",
       "  'attend_date': datetime.date(2015, 5, 15),\n",
       "  'total_days': 129.0},\n",
       " {'absent_days': 1.5,\n",
       "  'attend_date': datetime.date(2015, 5, 30),\n",
       "  'total_days': 144.0}]"
      ]
     },
     "execution_count": 6,
     "metadata": {},
     "output_type": "execute_result"
    }
   ],
   "source": [
    "attend_dict=df_attend.to_dict(orient=\"records\")\n",
    "\n",
    "attend_dict"
   ]
  },
  {
   "cell_type": "code",
   "execution_count": 7,
   "metadata": {
    "collapsed": false
   },
   "outputs": [
    {
     "ename": "NameError",
     "evalue": "name 'date' is not defined",
     "output_type": "error",
     "traceback": [
      "\u001b[0;31m---------------------------------------------------------------------------\u001b[0m",
      "\u001b[0;31mNameError\u001b[0m                                 Traceback (most recent call last)",
      "\u001b[0;32m<ipython-input-7-43d628c52c24>\u001b[0m in \u001b[0;36m<module>\u001b[0;34m()\u001b[0m\n\u001b[1;32m      1\u001b[0m \u001b[0mattend_google_table\u001b[0m \u001b[0;34m=\u001b[0m \u001b[0mTable\u001b[0m\u001b[0;34m(\u001b[0m\u001b[0;34m)\u001b[0m\u001b[0;34m\u001b[0m\u001b[0m\n\u001b[0;32m----> 2\u001b[0;31m \u001b[0mattend_google_table\u001b[0m\u001b[0;34m.\u001b[0m\u001b[0madd_column\u001b[0m\u001b[0;34m(\u001b[0m\u001b[0;34m'attend_date'\u001b[0m\u001b[0;34m,\u001b[0m \u001b[0mdate\u001b[0m\u001b[0;34m,\u001b[0m \u001b[0;34m'Date'\u001b[0m\u001b[0;34m)\u001b[0m\u001b[0;34m\u001b[0m\u001b[0m\n\u001b[0m\u001b[1;32m      3\u001b[0m \u001b[0mattend_google_table\u001b[0m\u001b[0;34m.\u001b[0m\u001b[0madd_column\u001b[0m\u001b[0;34m(\u001b[0m\u001b[0;34m'absent_days'\u001b[0m\u001b[0;34m,\u001b[0m \u001b[0mfloat\u001b[0m\u001b[0;34m,\u001b[0m \u001b[0;34m'Absences'\u001b[0m\u001b[0;34m)\u001b[0m\u001b[0;34m\u001b[0m\u001b[0m\n\u001b[1;32m      4\u001b[0m \u001b[0mattend_google_table\u001b[0m\u001b[0;34m.\u001b[0m\u001b[0madd_column\u001b[0m\u001b[0;34m(\u001b[0m\u001b[0;34m'total_days'\u001b[0m\u001b[0;34m,\u001b[0m \u001b[0mfloat\u001b[0m\u001b[0;34m,\u001b[0m \u001b[0;34m'Total Days'\u001b[0m\u001b[0;34m)\u001b[0m\u001b[0;34m\u001b[0m\u001b[0m\n\u001b[1;32m      5\u001b[0m \u001b[0;34m\u001b[0m\u001b[0m\n",
      "\u001b[0;31mNameError\u001b[0m: name 'date' is not defined"
     ]
    }
   ],
   "source": [
    "attend_google_table = Table()\n",
    "attend_google_table.add_column('attend_date', date, 'Date')\n",
    "attend_google_table.add_column('absent_days', float, 'Absences')\n",
    "attend_google_table.add_column('total_days', float, 'Total Days')\n",
    "\n",
    "for row in df_attend.iterrows():\n",
    "    attend_google_table.append(row[1].tolist())\n",
    "\n",
    "attend_google_table.rows"
   ]
  },
  {
   "cell_type": "code",
   "execution_count": null,
   "metadata": {
    "collapsed": false
   },
   "outputs": [],
   "source": [
    " description = {\"year\": (\"date\", \"Year\"),\n",
    "                 \"sales\": (\"number\", \"Sales\"),\n",
    "                 \"expenses\": (\"number\", \"Expenses\")}\n",
    "\n",
    "\n",
    "# Loading it into gviz_api.DataTable\n",
    "data_table = gviz_api.DataTable(description)\n",
    "data_table.LoadData(attend_dict)"
   ]
  },
  {
   "cell_type": "code",
   "execution_count": null,
   "metadata": {
    "collapsed": false
   },
   "outputs": [],
   "source": []
  },
  {
   "cell_type": "code",
   "execution_count": 8,
   "metadata": {
    "collapsed": false
   },
   "outputs": [
    {
     "data": {
      "text/plain": [
       "'{\"rows\":[{\"c\":[{\"v\":\"Date(2015,2,15)\"},{\"v\":1.0}]},{\"c\":[{\"v\":\"Date(2015,2,30)\"},{\"v\":1.0}]},{\"c\":[{\"v\":\"Date(2015,3,15)\"},{\"v\":1.5}]},{\"c\":[{\"v\":\"Date(2015,3,30)\"},{\"v\":1.5}]},{\"c\":[{\"v\":\"Date(2015,4,15)\"},{\"v\":2.5}]},{\"c\":[{\"v\":\"Date(2015,4,30)\"},{\"v\":1.5}]}],\"cols\":[{\"type\":\"date\",\"id\":\"attend_date\",\"label\":\"attend_date\"},{\"type\":\"number\",\"id\":\"absent_days\",\"label\":\"absent_days\"}]}'"
      ]
     },
     "execution_count": 8,
     "metadata": {},
     "output_type": "execute_result"
    }
   ],
   "source": [
    "attend_sql=\"Select attend_date, absent_days \\\n",
    "    FROM student_attendance WHERE student_id=1\"\n",
    "df_attend = pandas.read_sql(attend_sql, con=connection)\n",
    "attend_dict=df_attend.as_matrix()\n",
    "description2 = [(\"attend_date\", \"date\" ),\n",
    "               (\"absent_days\", \"number\")]\n",
    "\n",
    "# Loading it into gviz_api.DataTable\n",
    "data_table = gviz_api.DataTable(description2)\n",
    "data_table.LoadData(attend_dict)\n",
    "json = data_table.ToJSon()\n",
    "json"
   ]
  },
  {
   "cell_type": "code",
   "execution_count": 11,
   "metadata": {
    "collapsed": false
   },
   "outputs": [
    {
     "data": {
      "text/plain": [
       "'{\"rows\":[{\"c\":[{\"v\":\"Date(2015,2,15)\"},{\"v\":78},{\"v\":76},{\"v\":83},{\"v\":62}]},{\"c\":[{\"v\":\"Date(2015,3,15)\"},{\"v\":78},{\"v\":77},{\"v\":83},{\"v\":72}]},{\"c\":[{\"v\":\"Date(2015,4,15)\"},{\"v\":78},{\"v\":80},{\"v\":80},{\"v\":73}]}],\"cols\":[{\"type\":\"date\",\"id\":\"grade_date\",\"label\":\"Date\"},{\"type\":\"number\",\"id\":\"subj1\",\"label\":\"Math\"},{\"type\":\"number\",\"id\":\"subj2\",\"label\":\"Reading\"},{\"type\":\"number\",\"id\":\"subj3\",\"label\":\"Science\"},{\"type\":\"number\",\"id\":\"subj4\",\"label\":\"Social Studies\"}]}'"
      ]
     },
     "execution_count": 11,
     "metadata": {},
     "output_type": "execute_result"
    }
   ],
   "source": [
    "student_id=4\n",
    "all_grades_sql = \"SELECT grade, grade_date, subject_name  FROM student_grade, student_subject  \\\n",
    "           WHERE student_grade.student_id = '%s' AND student_grade.subject_id=student_subject.subject_id\" %(student_id )\n",
    "\n",
    "df_all_grades = pandas.read_sql(all_grades_sql, con=connection)\n",
    "df_grades_indexed=df_all_grades.pivot(index='grade_date', columns='subject_name', values='grade')\n",
    "subject_names=list(df_grades_indexed.columns.values)\n",
    "df_grades_indexed.insert(0,'date', df_grades_indexed.index)\n",
    "all_grades_data=df_grades_indexed.values\n",
    "all_grades_data\n",
    "\n",
    "# should make this dynamic with a loop!!!\n",
    "grades_description = [(\"grade_date\", \"date\", \"Date\" ),\n",
    "               (\"subj1\", \"number\", subject_names[0] ),\n",
    "               (\"subj2\", \"number\", subject_names[1] ),\n",
    "               (\"subj3\", \"number\", subject_names[2]),\n",
    "               (\"subj4\", \"number\", subject_names[3] )]\n",
    "\n",
    "# Loading it into gviz_api.DataTable\n",
    "all_grades_data_table = gviz_api.DataTable(grades_description)\n",
    "all_grades_data_table.LoadData(all_grades_data)\n",
    "historical_grades_json = all_grades_data_table.ToJSon()\n",
    "historical_grades_json\n"
   ]
  },
  {
   "cell_type": "code",
   "execution_count": 10,
   "metadata": {
    "collapsed": false
   },
   "outputs": [
    {
     "ename": "NameError",
     "evalue": "name 'subject_names' is not defined",
     "output_type": "error",
     "traceback": [
      "\u001b[0;31m---------------------------------------------------------------------------\u001b[0m",
      "\u001b[0;31mNameError\u001b[0m                                 Traceback (most recent call last)",
      "\u001b[0;32m<ipython-input-10-1e719796ee29>\u001b[0m in \u001b[0;36m<module>\u001b[0;34m()\u001b[0m\n\u001b[0;32m----> 1\u001b[0;31m \u001b[0msubject_names\u001b[0m\u001b[0;34m[\u001b[0m\u001b[0;36m0\u001b[0m\u001b[0;34m]\u001b[0m\u001b[0;34m\u001b[0m\u001b[0m\n\u001b[0m",
      "\u001b[0;31mNameError\u001b[0m: name 'subject_names' is not defined"
     ]
    }
   ],
   "source": [
    "subject_names[0]"
   ]
  },
  {
   "cell_type": "code",
   "execution_count": 94,
   "metadata": {
    "collapsed": false
   },
   "outputs": [
    {
     "name": "stdout",
     "output_type": "stream",
     "text": [
      "subj1 , number,  Math\n",
      "subj2 , number,  Reading\n",
      "subj3 , number,  Science\n",
      "subj4 , number,  Social Studies\n"
     ]
    }
   ],
   "source": [
    "for index,subject in enumerate(subject_names):\n",
    "    print 'subj'+str(index+1), ', number, ', subject"
   ]
  },
  {
   "cell_type": "code",
   "execution_count": 37,
   "metadata": {
    "collapsed": false
   },
   "outputs": [
    {
     "data": {
      "text/plain": [
       "'{\"rows\":[{\"c\":[{\"v\":\"Date(2015,2,15)\"},{\"v\":78},{\"v\":76},{\"v\":83},{\"v\":62}]},{\"c\":[{\"v\":\"Date(2015,3,15)\"},{\"v\":78},{\"v\":77},{\"v\":83},{\"v\":72}]},{\"c\":[{\"v\":\"Date(2015,4,15)\"},{\"v\":78},{\"v\":80},{\"v\":80},{\"v\":73}]}],\"cols\":[{\"type\":\"date\",\"id\":\"grade_date\",\"label\":\"Date\"},{\"type\":\"number\",\"id\":\"subj1\",\"label\":\"Math\"},{\"type\":\"number\",\"id\":\"subj2\",\"label\":\"Reading\"},{\"type\":\"number\",\"id\":\"subj3\",\"label\":\"Science\"},{\"type\":\"number\",\"id\":\"subj4\",\"label\":\"Social Studies\"}]}'"
      ]
     },
     "execution_count": 37,
     "metadata": {},
     "output_type": "execute_result"
    }
   ],
   "source": [
    "#SQL to dictionary for all grades\n",
    "all_grades_sql = \"SELECT grade, grade_date, subject_name  FROM student_grade, student_subject  \\\n",
    "       WHERE student_grade.student_id = '%s' AND student_grade.subject_id=student_subject.subject_id\" %(student_id )\n",
    "df_all_grades = pandas.read_sql(all_grades_sql, con=connection)\n",
    "df_grades_indexed=df_all_grades.pivot(index='grade_date', columns='subject_name', values='grade')\n",
    "\n",
    "\n",
    "subject_names=list(df_grades_indexed.columns.values)\n",
    "df_grades_indexed.insert(0,'date', df_grades_indexed.index)\n",
    "all_grades_data=df_grades_indexed.values\n",
    "\n",
    "\n",
    "grades_desc =[] \n",
    "grades_desc.append((\"grade_date\", \"date\", \"Date\" ))\n",
    "for index,subject in enumerate(subject_names):\n",
    "    grades_desc.append( (\"subj\"+str(index+1), \"number\", subject))\n",
    "\n",
    "grades_desc\n",
    "# Loading it into gviz_api.DataTable\n",
    "all_grades_data_table = gviz_api.DataTable(grades_desc)\n",
    "all_grades_data_table.LoadData(all_grades_data)\n",
    "historical_grades_json = all_grades_data_table.ToJSon()\n",
    "historical_grades_json"
   ]
  },
  {
   "cell_type": "code",
   "execution_count": null,
   "metadata": {
    "collapsed": true
   },
   "outputs": [],
   "source": []
  }
 ],
 "metadata": {
  "kernelspec": {
   "display_name": "Django Shell-Plus",
   "language": "python",
   "name": "django_extensions"
  },
  "language_info": {
   "codemirror_mode": {
    "name": "ipython",
    "version": 2
   },
   "file_extension": ".py",
   "mimetype": "text/x-python",
   "name": "python",
   "nbconvert_exporter": "python",
   "pygments_lexer": "ipython2",
   "version": "2.7.6"
  }
 },
 "nbformat": 4,
 "nbformat_minor": 1
}
