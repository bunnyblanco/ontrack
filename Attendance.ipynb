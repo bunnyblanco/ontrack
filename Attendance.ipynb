{
 "cells": [
  {
   "cell_type": "code",
   "execution_count": 10,
   "metadata": {
    "collapsed": false
   },
   "outputs": [],
   "source": [
    "from django.shortcuts import render\n",
    "from student.models import Grade, Student, Attendance\n",
    "\n",
    "#sql to JSON\n",
    "from django.core import serializers\n",
    "import simplejson\n",
    "\n",
    "#sql to pandas\n",
    "import pandas\n",
    "from django.db import connection\n",
    "\n",
    "#bokeh\n",
    "from datetime import datetime\n",
    "from collections import OrderedDict\n",
    "import numpy as np\n",
    "from bokeh.models import HoverTool, ColumnDataSource\n",
    "from bokeh.palettes import Spectral11, Blues9, Blues5\n",
    "from bokeh.plotting import figure\n",
    "from bokeh.charts import Scatter, TimeSeries\n",
    "\n",
    "\n",
    "\n",
    "#for notebook only\n",
    "from bokeh.charts import show\n",
    "from bokeh.io import output_notebook\n",
    "from bokeh.resources import INLINE\n",
    "\n",
    "#google\n",
    "import gviz_api"
   ]
  },
  {
   "cell_type": "code",
   "execution_count": 11,
   "metadata": {
    "collapsed": false
   },
   "outputs": [
    {
     "data": {
      "text/plain": [
       "95.0"
      ]
     },
     "execution_count": 11,
     "metadata": {},
     "output_type": "execute_result"
    }
   ],
   "source": [
    "attend=Attendance.objects.filter(student_id=2).order_by('-attend_date')[1].calc_pct()\n",
    "round(attend)\n"
   ]
  },
  {
   "cell_type": "code",
   "execution_count": 29,
   "metadata": {
    "collapsed": false
   },
   "outputs": [
    {
     "data": {
      "text/plain": [
       "u'[{\"model\": \"student.attendance\", \"pk\": 23, \"fields\": {\"student\": \"4\", \"total_days\": \"70.0\", \"absent_days\": \"3.00\", \"attend_date\": \"2015-03-15\", \"created\": \"2016-08-25\"}}, {\"model\": \"student.attendance\", \"pk\": 24, \"fields\": {\"student\": \"4\", \"total_days\": \"85.0\", \"absent_days\": \"3.00\", \"attend_date\": \"2015-03-30\", \"created\": \"2016-08-25\"}}, {\"model\": \"student.attendance\", \"pk\": 25, \"fields\": {\"student\": \"4\", \"total_days\": \"99.0\", \"absent_days\": \"3.00\", \"attend_date\": \"2015-04-15\", \"created\": \"2016-08-25\"}}, {\"model\": \"student.attendance\", \"pk\": 26, \"fields\": {\"student\": \"4\", \"total_days\": \"114.0\", \"absent_days\": \"3.50\", \"attend_date\": \"2015-04-30\", \"created\": \"2016-08-25\"}}, {\"model\": \"student.attendance\", \"pk\": 27, \"fields\": {\"student\": \"4\", \"total_days\": \"129.0\", \"absent_days\": \"3.50\", \"attend_date\": \"2015-05-15\", \"created\": \"2016-08-25\"}}, {\"model\": \"student.attendance\", \"pk\": 28, \"fields\": {\"student\": \"4\", \"total_days\": \"144.0\", \"absent_days\": \"3.50\", \"attend_date\": \"2015-05-30\", \"created\": \"2016-08-25\"}}]'"
      ]
     },
     "execution_count": 29,
     "metadata": {},
     "output_type": "execute_result"
    }
   ],
   "source": [
    "attendance_json = serializers.serialize('json', Attendance.objects.filter(student_id=4))\n",
    "attendance_json"
   ]
  },
  {
   "cell_type": "code",
   "execution_count": 30,
   "metadata": {
    "collapsed": false
   },
   "outputs": [
    {
     "ename": "TypeError",
     "evalue": "datetime.date(2015, 3, 15) is not JSON serializable",
     "output_type": "error",
     "traceback": [
      "\u001b[0;31m---------------------------------------------------------------------------\u001b[0m",
      "\u001b[0;31mTypeError\u001b[0m                                 Traceback (most recent call last)",
      "\u001b[0;32m<ipython-input-30-9df87dc812b5>\u001b[0m in \u001b[0;36m<module>\u001b[0;34m()\u001b[0m\n\u001b[1;32m      3\u001b[0m \u001b[0mattend_raw_stripped\u001b[0m \u001b[0;34m=\u001b[0m \u001b[0;34m[\u001b[0m\u001b[0meach_dictionary\u001b[0m\u001b[0;34m[\u001b[0m\u001b[0;34m'fields'\u001b[0m\u001b[0;34m]\u001b[0m \u001b[0;32mfor\u001b[0m \u001b[0meach_dictionary\u001b[0m \u001b[0;32min\u001b[0m \u001b[0mattendance_raw\u001b[0m\u001b[0;34m]\u001b[0m\u001b[0;34m\u001b[0m\u001b[0m\n\u001b[1;32m      4\u001b[0m \u001b[0mattend_raw_stripped\u001b[0m\u001b[0;34m\u001b[0m\u001b[0m\n\u001b[0;32m----> 5\u001b[0;31m \u001b[0mattend_json\u001b[0m \u001b[0;34m=\u001b[0m \u001b[0msimplejson\u001b[0m\u001b[0;34m.\u001b[0m\u001b[0mdumps\u001b[0m\u001b[0;34m(\u001b[0m\u001b[0mattend_raw_stripped\u001b[0m\u001b[0;34m)\u001b[0m\u001b[0;34m\u001b[0m\u001b[0m\n\u001b[0m\u001b[1;32m      6\u001b[0m \u001b[0mattend_json\u001b[0m\u001b[0;34m\u001b[0m\u001b[0m\n\u001b[1;32m      7\u001b[0m \u001b[0mattend_data\u001b[0m \u001b[0;34m=\u001b[0m \u001b[0msimplejson\u001b[0m\u001b[0;34m.\u001b[0m\u001b[0mloads\u001b[0m\u001b[0;34m(\u001b[0m\u001b[0mattend_json\u001b[0m\u001b[0;34m)\u001b[0m\u001b[0;34m\u001b[0m\u001b[0m\n",
      "\u001b[0;32m/Users/administrator/Desktop/django-ontrack/venv/lib/python2.7/site-packages/simplejson/__init__.pyc\u001b[0m in \u001b[0;36mdumps\u001b[0;34m(obj, skipkeys, ensure_ascii, check_circular, allow_nan, cls, indent, separators, encoding, default, use_decimal, namedtuple_as_object, tuple_as_array, bigint_as_string, sort_keys, item_sort_key, for_json, ignore_nan, int_as_string_bitcount, iterable_as_array, **kw)\u001b[0m\n\u001b[1;32m    378\u001b[0m         \u001b[0;32mand\u001b[0m \u001b[0;32mnot\u001b[0m \u001b[0mkw\u001b[0m\u001b[0;34m\u001b[0m\u001b[0m\n\u001b[1;32m    379\u001b[0m     ):\n\u001b[0;32m--> 380\u001b[0;31m         \u001b[0;32mreturn\u001b[0m \u001b[0m_default_encoder\u001b[0m\u001b[0;34m.\u001b[0m\u001b[0mencode\u001b[0m\u001b[0;34m(\u001b[0m\u001b[0mobj\u001b[0m\u001b[0;34m)\u001b[0m\u001b[0;34m\u001b[0m\u001b[0m\n\u001b[0m\u001b[1;32m    381\u001b[0m     \u001b[0;32mif\u001b[0m \u001b[0mcls\u001b[0m \u001b[0;32mis\u001b[0m \u001b[0mNone\u001b[0m\u001b[0;34m:\u001b[0m\u001b[0;34m\u001b[0m\u001b[0m\n\u001b[1;32m    382\u001b[0m         \u001b[0mcls\u001b[0m \u001b[0;34m=\u001b[0m \u001b[0mJSONEncoder\u001b[0m\u001b[0;34m\u001b[0m\u001b[0m\n",
      "\u001b[0;32m/Users/administrator/Desktop/django-ontrack/venv/lib/python2.7/site-packages/simplejson/encoder.pyc\u001b[0m in \u001b[0;36mencode\u001b[0;34m(self, o)\u001b[0m\n\u001b[1;32m    273\u001b[0m         \u001b[0;31m# exceptions aren't as detailed.  The list call should be roughly\u001b[0m\u001b[0;34m\u001b[0m\u001b[0;34m\u001b[0m\u001b[0m\n\u001b[1;32m    274\u001b[0m         \u001b[0;31m# equivalent to the PySequence_Fast that ''.join() would do.\u001b[0m\u001b[0;34m\u001b[0m\u001b[0;34m\u001b[0m\u001b[0m\n\u001b[0;32m--> 275\u001b[0;31m         \u001b[0mchunks\u001b[0m \u001b[0;34m=\u001b[0m \u001b[0mself\u001b[0m\u001b[0;34m.\u001b[0m\u001b[0miterencode\u001b[0m\u001b[0;34m(\u001b[0m\u001b[0mo\u001b[0m\u001b[0;34m,\u001b[0m \u001b[0m_one_shot\u001b[0m\u001b[0;34m=\u001b[0m\u001b[0mTrue\u001b[0m\u001b[0;34m)\u001b[0m\u001b[0;34m\u001b[0m\u001b[0m\n\u001b[0m\u001b[1;32m    276\u001b[0m         \u001b[0;32mif\u001b[0m \u001b[0;32mnot\u001b[0m \u001b[0misinstance\u001b[0m\u001b[0;34m(\u001b[0m\u001b[0mchunks\u001b[0m\u001b[0;34m,\u001b[0m \u001b[0;34m(\u001b[0m\u001b[0mlist\u001b[0m\u001b[0;34m,\u001b[0m \u001b[0mtuple\u001b[0m\u001b[0;34m)\u001b[0m\u001b[0;34m)\u001b[0m\u001b[0;34m:\u001b[0m\u001b[0;34m\u001b[0m\u001b[0m\n\u001b[1;32m    277\u001b[0m             \u001b[0mchunks\u001b[0m \u001b[0;34m=\u001b[0m \u001b[0mlist\u001b[0m\u001b[0;34m(\u001b[0m\u001b[0mchunks\u001b[0m\u001b[0;34m)\u001b[0m\u001b[0;34m\u001b[0m\u001b[0m\n",
      "\u001b[0;32m/Users/administrator/Desktop/django-ontrack/venv/lib/python2.7/site-packages/simplejson/encoder.pyc\u001b[0m in \u001b[0;36miterencode\u001b[0;34m(self, o, _one_shot)\u001b[0m\n\u001b[1;32m    355\u001b[0m                 self.iterable_as_array, Decimal=decimal.Decimal)\n\u001b[1;32m    356\u001b[0m         \u001b[0;32mtry\u001b[0m\u001b[0;34m:\u001b[0m\u001b[0;34m\u001b[0m\u001b[0m\n\u001b[0;32m--> 357\u001b[0;31m             \u001b[0;32mreturn\u001b[0m \u001b[0m_iterencode\u001b[0m\u001b[0;34m(\u001b[0m\u001b[0mo\u001b[0m\u001b[0;34m,\u001b[0m \u001b[0;36m0\u001b[0m\u001b[0;34m)\u001b[0m\u001b[0;34m\u001b[0m\u001b[0m\n\u001b[0m\u001b[1;32m    358\u001b[0m         \u001b[0;32mfinally\u001b[0m\u001b[0;34m:\u001b[0m\u001b[0;34m\u001b[0m\u001b[0m\n\u001b[1;32m    359\u001b[0m             \u001b[0mkey_memo\u001b[0m\u001b[0;34m.\u001b[0m\u001b[0mclear\u001b[0m\u001b[0;34m(\u001b[0m\u001b[0;34m)\u001b[0m\u001b[0;34m\u001b[0m\u001b[0m\n",
      "\u001b[0;32m/Users/administrator/Desktop/django-ontrack/venv/lib/python2.7/site-packages/simplejson/encoder.pyc\u001b[0m in \u001b[0;36mdefault\u001b[0;34m(self, o)\u001b[0m\n\u001b[1;32m    250\u001b[0m \u001b[0;34m\u001b[0m\u001b[0m\n\u001b[1;32m    251\u001b[0m         \"\"\"\n\u001b[0;32m--> 252\u001b[0;31m         \u001b[0;32mraise\u001b[0m \u001b[0mTypeError\u001b[0m\u001b[0;34m(\u001b[0m\u001b[0mrepr\u001b[0m\u001b[0;34m(\u001b[0m\u001b[0mo\u001b[0m\u001b[0;34m)\u001b[0m \u001b[0;34m+\u001b[0m \u001b[0;34m\" is not JSON serializable\"\u001b[0m\u001b[0;34m)\u001b[0m\u001b[0;34m\u001b[0m\u001b[0m\n\u001b[0m\u001b[1;32m    253\u001b[0m \u001b[0;34m\u001b[0m\u001b[0m\n\u001b[1;32m    254\u001b[0m     \u001b[0;32mdef\u001b[0m \u001b[0mencode\u001b[0m\u001b[0;34m(\u001b[0m\u001b[0mself\u001b[0m\u001b[0;34m,\u001b[0m \u001b[0mo\u001b[0m\u001b[0;34m)\u001b[0m\u001b[0;34m:\u001b[0m\u001b[0;34m\u001b[0m\u001b[0m\n",
      "\u001b[0;31mTypeError\u001b[0m: datetime.date(2015, 3, 15) is not JSON serializable"
     ]
    }
   ],
   "source": [
    "attendance_raw = serializers.serialize('python', Attendance.objects.filter(student_id=4), \n",
    "                                           fields=('total_days','absent_days'))\n",
    "attend_raw_stripped = [each_dictionary['fields'] for each_dictionary in attendance_raw]\n",
    "attend_raw_stripped\n",
    "attend_json = simplejson.dumps(attend_raw_stripped)\n",
    "attend_json\n",
    "attend_data = simplejson.loads(attend_json)\n",
    "attend_data\n",
    "\n",
    "\n"
   ]
  },
  {
   "cell_type": "code",
   "execution_count": 28,
   "metadata": {
    "collapsed": false
   },
   "outputs": [
    {
     "name": "stdout",
     "output_type": "stream",
     "text": [
      "var jscode_data = new google.visualization.DataTable();\n",
      "jscode_data.addColumn(\"number\", \"Total Days\", \"total_days\");\n",
      "jscode_data.addColumn(\"number\", \"Absences\", \"absent_days\");\n",
      "jscode_data.addRows(6);\n",
      "jscode_data.setCell(0, 0, 70.0);\n",
      "jscode_data.setCell(0, 1, 3.0);\n",
      "jscode_data.setCell(1, 0, 85.0);\n",
      "jscode_data.setCell(1, 1, 3.0);\n",
      "jscode_data.setCell(2, 0, 99.0);\n",
      "jscode_data.setCell(2, 1, 3.0);\n",
      "jscode_data.setCell(3, 0, 114.0);\n",
      "jscode_data.setCell(3, 1, 3.5);\n",
      "jscode_data.setCell(4, 0, 129.0);\n",
      "jscode_data.setCell(4, 1, 3.5);\n",
      "jscode_data.setCell(5, 0, 144.0);\n",
      "jscode_data.setCell(5, 1, 3.5);\n",
      "\n"
     ]
    }
   ],
   "source": [
    "attend_description = {\"total_days\": (\"number\", \"Total Days\"), \n",
    "                      \"absent_days\": (\"number\", \"Absences\")}\n",
    "\n",
    "\n",
    "\n",
    "# Loading it into gviz_api.DataTable\n",
    "data_table = gviz_api.DataTable(attend_description)\n",
    "data_table.LoadData(attend_data)\n",
    "\n",
    "# Create a JavaScript code string.\n",
    "jscode = data_table.ToJSCode(\"jscode_data\",\n",
    "                               columns_order=(\"total_days\", \"absent_days\"))\n",
    "# Create a JSON string.\n",
    "json = data_table.ToJSon(columns_order=(\"total_days\", \"absent_days\"))\n",
    "\n",
    "# Put the JS code and JSON string into the template.\n",
    "print jscode"
   ]
  },
  {
   "cell_type": "code",
   "execution_count": null,
   "metadata": {
    "collapsed": true
   },
   "outputs": [],
   "source": []
  },
  {
   "cell_type": "code",
   "execution_count": null,
   "metadata": {
    "collapsed": true
   },
   "outputs": [],
   "source": []
  }
 ],
 "metadata": {
  "kernelspec": {
   "display_name": "Django Shell-Plus",
   "language": "python",
   "name": "django_extensions"
  },
  "language_info": {
   "codemirror_mode": {
    "name": "ipython",
    "version": 2
   },
   "file_extension": ".py",
   "mimetype": "text/x-python",
   "name": "python",
   "nbconvert_exporter": "python",
   "pygments_lexer": "ipython2",
   "version": "2.7.6"
  }
 },
 "nbformat": 4,
 "nbformat_minor": 1
}
