{
 "cells": [
  {
   "cell_type": "code",
   "execution_count": 106,
   "metadata": {
    "collapsed": false
   },
   "outputs": [],
   "source": [
    "#sql to pandas\n",
    "import pandas\n",
    "from student.models import Grade, Attendance\n",
    "from django.db import connection\n",
    "import gviz_api\n",
    "import math\n",
    "\n",
    "\n",
    "#for notebook only\n",
    "from bokeh.charts import show\n",
    "from bokeh.io import output_notebook\n",
    "\n"
   ]
  },
  {
   "cell_type": "code",
   "execution_count": 107,
   "metadata": {
    "collapsed": false
   },
   "outputs": [],
   "source": [
    "student_id=4\n"
   ]
  },
  {
   "cell_type": "code",
   "execution_count": 113,
   "metadata": {
    "collapsed": false
   },
   "outputs": [
    {
     "data": {
      "text/plain": [
       "4.0"
      ]
     },
     "execution_count": 113,
     "metadata": {},
     "output_type": "execute_result"
    }
   ],
   "source": [
    "def getPoints(x):\n",
    "    # if no grade for that subject at that date\n",
    "    if math.isnan(x):\n",
    "        # just return it untouched\n",
    "        return x\n",
    "    # but, if not, return the points\n",
    "    elif x:\n",
    "        if x>=90:\n",
    "            return 4\n",
    "        elif x>=80:\n",
    "            return 3\n",
    "        elif x>=70:\n",
    "            return 2\n",
    "        elif x>=60:\n",
    "            return 1\n",
    "        else:\n",
    "            return 0\n",
    "    # and leave everything else\n",
    "    else:\n",
    "        return \n",
    "    \n",
    "all_grades_sql = \"SELECT grade, grade_date, subject_name  FROM student_grade, student_subject  \\\n",
    "           WHERE student_grade.student_id = '%s' \\\n",
    "            AND student_grade.subject_id=student_subject.subject_id\\\n",
    "            ORDER BY date(grade_date) DESC\" %(student_id )\n",
    "\n",
    "df_all_grades = pandas.read_sql(all_grades_sql, con=connection)\n",
    "df_grades_indexed=df_all_grades.pivot(index='grade_date', columns='subject_name', values='grade')\n",
    "df_points=df_grades_indexed.applymap(getPoints)\n",
    "df_points['gpa']=df_points.mean(axis=1)\n",
    "df_points=df_points.reset_index()\n",
    "gpa_values=df_points[['grade_date', 'gpa']].values\n",
    "gpa_desc=[(\"grade_date\", \"date\", \"Date\" ),\n",
    "          (\"gpa\", \"number\", \"GPA\")]\n",
    "gpa_data_table=gviz_api.DataTable(gpa_desc)\n",
    "gpa_data_table.LoadData(gpa_values)\n",
    "gpa_json=gpa_data_table.ToJSon()\n",
    "#will be the GPA of the most recently entered grades\n",
    "#maybe change this to be the 4 most recent grades per subject!\n",
    "current_gpa=df_points.sort_values('grade_date',0,False)['gpa'].iloc[0]\n",
    "current_gpa\n"
   ]
  },
  {
   "cell_type": "code",
   "execution_count": 115,
   "metadata": {
    "collapsed": false
   },
   "outputs": [
    {
     "data": {
      "text/plain": [
       "97.0"
      ]
     },
     "execution_count": 115,
     "metadata": {},
     "output_type": "execute_result"
    }
   ],
   "source": [
    "attend_pct=round(Attendance.objects.filter(student_id=\"%s\"%(student_id)).order_by('-attend_date')[1].calc_pct())\n",
    "attend_pct"
   ]
  },
  {
   "cell_type": "code",
   "execution_count": null,
   "metadata": {
    "collapsed": true
   },
   "outputs": [],
   "source": []
  }
 ],
 "metadata": {
  "kernelspec": {
   "display_name": "Django Shell-Plus",
   "language": "python",
   "name": "django_extensions"
  },
  "language_info": {
   "codemirror_mode": {
    "name": "ipython",
    "version": 2
   },
   "file_extension": ".py",
   "mimetype": "text/x-python",
   "name": "python",
   "nbconvert_exporter": "python",
   "pygments_lexer": "ipython2",
   "version": "2.7.6"
  }
 },
 "nbformat": 4,
 "nbformat_minor": 1
}
