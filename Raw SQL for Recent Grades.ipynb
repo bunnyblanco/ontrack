{
 "cells": [
  {
   "cell_type": "code",
   "execution_count": 2,
   "metadata": {
    "collapsed": false
   },
   "outputs": [],
   "source": [
    "#sql to pandas\n",
    "import pandas\n",
    "from student.models import Grade\n",
    "from django.db import connection\n",
    "\n",
    "\n",
    "#for notebook only\n",
    "from bokeh.charts import show\n",
    "from bokeh.io import output_notebook"
   ]
  },
  {
   "cell_type": "code",
   "execution_count": 3,
   "metadata": {
    "collapsed": false
   },
   "outputs": [
    {
     "data": {
      "text/html": [
       "<div>\n",
       "<table border=\"1\" class=\"dataframe\">\n",
       "  <thead>\n",
       "    <tr style=\"text-align: right;\">\n",
       "      <th></th>\n",
       "      <th>grade</th>\n",
       "      <th>grade_date</th>\n",
       "      <th>subject_id</th>\n",
       "    </tr>\n",
       "  </thead>\n",
       "  <tbody>\n",
       "    <tr>\n",
       "      <th>0</th>\n",
       "      <td>78</td>\n",
       "      <td>2015-03-15</td>\n",
       "      <td>1</td>\n",
       "    </tr>\n",
       "    <tr>\n",
       "      <th>1</th>\n",
       "      <td>78</td>\n",
       "      <td>2015-04-15</td>\n",
       "      <td>1</td>\n",
       "    </tr>\n",
       "    <tr>\n",
       "      <th>2</th>\n",
       "      <td>78</td>\n",
       "      <td>2015-05-15</td>\n",
       "      <td>1</td>\n",
       "    </tr>\n",
       "    <tr>\n",
       "      <th>3</th>\n",
       "      <td>78</td>\n",
       "      <td>2015-03-15</td>\n",
       "      <td>1</td>\n",
       "    </tr>\n",
       "    <tr>\n",
       "      <th>4</th>\n",
       "      <td>78</td>\n",
       "      <td>2015-04-15</td>\n",
       "      <td>1</td>\n",
       "    </tr>\n",
       "    <tr>\n",
       "      <th>5</th>\n",
       "      <td>78</td>\n",
       "      <td>2015-05-15</td>\n",
       "      <td>1</td>\n",
       "    </tr>\n",
       "    <tr>\n",
       "      <th>6</th>\n",
       "      <td>78</td>\n",
       "      <td>2015-03-15</td>\n",
       "      <td>1</td>\n",
       "    </tr>\n",
       "    <tr>\n",
       "      <th>7</th>\n",
       "      <td>78</td>\n",
       "      <td>2015-04-15</td>\n",
       "      <td>1</td>\n",
       "    </tr>\n",
       "    <tr>\n",
       "      <th>8</th>\n",
       "      <td>78</td>\n",
       "      <td>2015-05-15</td>\n",
       "      <td>1</td>\n",
       "    </tr>\n",
       "    <tr>\n",
       "      <th>9</th>\n",
       "      <td>78</td>\n",
       "      <td>2015-03-15</td>\n",
       "      <td>1</td>\n",
       "    </tr>\n",
       "    <tr>\n",
       "      <th>10</th>\n",
       "      <td>78</td>\n",
       "      <td>2015-04-15</td>\n",
       "      <td>1</td>\n",
       "    </tr>\n",
       "    <tr>\n",
       "      <th>11</th>\n",
       "      <td>78</td>\n",
       "      <td>2015-05-15</td>\n",
       "      <td>1</td>\n",
       "    </tr>\n",
       "  </tbody>\n",
       "</table>\n",
       "</div>"
      ],
      "text/plain": [
       "    grade  grade_date  subject_id\n",
       "0      78  2015-03-15           1\n",
       "1      78  2015-04-15           1\n",
       "2      78  2015-05-15           1\n",
       "3      78  2015-03-15           1\n",
       "4      78  2015-04-15           1\n",
       "5      78  2015-05-15           1\n",
       "6      78  2015-03-15           1\n",
       "7      78  2015-04-15           1\n",
       "8      78  2015-05-15           1\n",
       "9      78  2015-03-15           1\n",
       "10     78  2015-04-15           1\n",
       "11     78  2015-05-15           1"
      ]
     },
     "execution_count": 3,
     "metadata": {},
     "output_type": "execute_result"
    }
   ],
   "source": [
    "#error on the over (partition part) because OVER() and PARTITION BY() are only for SQL Server\n",
    "#recent_grades_sql = \"SELECT grade_date, subject_id, grade, max(grade_date) OVER (PARTITION BY subject_id) recent_grade FROM student_grade \"\n",
    "\n",
    "recent_grades_sql= \"SELECT grade, grade_date, subject_id FROM student_grade WHERE subject_id IN \\\n",
    "              (SELECT subject_id \\\n",
    "               FROM student_grade as s \\\n",
    "               WHERE s.subject_id = s.subject_id \\\n",
    "               ORDER BY grade_date DESC \\\n",
    "               LIMIT 1)\"\n",
    "\n",
    "#SELECT grade, grade_date, subject_id,max(grade_date) over (partition by subject_id) recent_grade_date  FROM student_grade WHERE student_grade.student_id = '%s' \" %('50155809', )\n",
    "df_recent_grades = pandas.read_sql(recent_grades_sql, con=connection)\n",
    "df_recent_grades\n",
    "\n",
    "# select year, x,y\n",
    "# from (\n",
    "#       select year, x, y, max(year) over(partition by x) max_year\n",
    "#       from my data\n",
    "#       )\n",
    "# where  year = max_year"
   ]
  },
  {
   "cell_type": "code",
   "execution_count": 7,
   "metadata": {
    "collapsed": false
   },
   "outputs": [
    {
     "data": {
      "text/html": [
       "<div>\n",
       "<table border=\"1\" class=\"dataframe\">\n",
       "  <thead>\n",
       "    <tr style=\"text-align: right;\">\n",
       "      <th></th>\n",
       "      <th>grade</th>\n",
       "      <th>grade_date</th>\n",
       "      <th>subject_name</th>\n",
       "    </tr>\n",
       "  </thead>\n",
       "  <tbody>\n",
       "    <tr>\n",
       "      <th>0</th>\n",
       "      <td>78</td>\n",
       "      <td>2015-05-15</td>\n",
       "      <td>Math</td>\n",
       "    </tr>\n",
       "    <tr>\n",
       "      <th>1</th>\n",
       "      <td>80</td>\n",
       "      <td>2015-05-15</td>\n",
       "      <td>Reading</td>\n",
       "    </tr>\n",
       "    <tr>\n",
       "      <th>2</th>\n",
       "      <td>80</td>\n",
       "      <td>2015-05-15</td>\n",
       "      <td>Science</td>\n",
       "    </tr>\n",
       "    <tr>\n",
       "      <th>3</th>\n",
       "      <td>73</td>\n",
       "      <td>2015-05-15</td>\n",
       "      <td>Social Studies</td>\n",
       "    </tr>\n",
       "  </tbody>\n",
       "</table>\n",
       "</div>"
      ],
      "text/plain": [
       "   grade  grade_date    subject_name\n",
       "0     78  2015-05-15            Math\n",
       "1     80  2015-05-15         Reading\n",
       "2     80  2015-05-15         Science\n",
       "3     73  2015-05-15  Social Studies"
      ]
     },
     "execution_count": 7,
     "metadata": {},
     "output_type": "execute_result"
    }
   ],
   "source": [
    "# http://stackoverflow.com/questions/31928075/sqlite-get-winner-of-each-game-rank-over-partition\n",
    "# SELECT GameID,\n",
    "#        PlayerID,\n",
    "#        PlayerName AS Winner,\n",
    "#        MAX(TotalScore) AS TotalScore\n",
    "# FROM vScore\n",
    "# GROUP BY GameID;\n",
    "\n",
    "student_id=4\n",
    "recent_grades_sql= \"SELECT grade, MAX(grade_date) as grade_date, subject_name \\\n",
    "              FROM student_grade, student_subject \\\n",
    "              WHERE student_id = '%s' AND student_grade.subject_id = student_subject.subject_id \\\n",
    "              GROUP BY student_grade.subject_id\"%(student_id)  \n",
    "\n",
    "df_recent_grades = pandas.read_sql(recent_grades_sql, con=connection)\n",
    "df_recent_grades\n",
    "#grades_dict=df_recent_grades.set_index('subject_name').to_dict('index')\n",
    "#grades_dict"
   ]
  },
  {
   "cell_type": "code",
   "execution_count": 37,
   "metadata": {
    "collapsed": false
   },
   "outputs": [
    {
     "data": {
      "text/plain": [
       "83"
      ]
     },
     "execution_count": 37,
     "metadata": {},
     "output_type": "execute_result"
    }
   ],
   "source": [
    "grades_dict[2]['grade']"
   ]
  },
  {
   "cell_type": "code",
   "execution_count": 43,
   "metadata": {
    "collapsed": false
   },
   "outputs": [
    {
     "name": "stdout",
     "output_type": "stream",
     "text": [
      "78 updated on 2016-05-15\n",
      "83 updated on 2016-08-16\n",
      "98 updated on 2016-08-16\n",
      "62 updated on 2016-05-15\n"
     ]
    }
   ],
   "source": [
    "for key in grades_dict:\n",
    "    print grades_dict[key]['grade'], 'updated on', grades_dict[key]['most_recent_grade_date']"
   ]
  },
  {
   "cell_type": "code",
   "execution_count": null,
   "metadata": {
    "collapsed": true
   },
   "outputs": [],
   "source": []
  }
 ],
 "metadata": {
  "kernelspec": {
   "display_name": "Django Shell-Plus",
   "language": "python",
   "name": "django_extensions"
  },
  "language_info": {
   "codemirror_mode": {
    "name": "ipython",
    "version": 2
   },
   "file_extension": ".py",
   "mimetype": "text/x-python",
   "name": "python",
   "nbconvert_exporter": "python",
   "pygments_lexer": "ipython2",
   "version": "2.7.6"
  }
 },
 "nbformat": 4,
 "nbformat_minor": 1
}
